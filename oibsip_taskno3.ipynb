{
 "cells": [
  {
   "cell_type": "code",
   "execution_count": 1,
   "id": "0ec3b13d",
   "metadata": {
    "execution": {
     "iopub.execute_input": "2023-07-22T08:07:36.203583Z",
     "iopub.status.busy": "2023-07-22T08:07:36.203130Z",
     "iopub.status.idle": "2023-07-22T08:07:36.208779Z",
     "shell.execute_reply": "2023-07-22T08:07:36.207523Z"
    },
    "papermill": {
     "duration": 0.031347,
     "end_time": "2023-07-22T08:07:36.211848",
     "exception": false,
     "start_time": "2023-07-22T08:07:36.180501",
     "status": "completed"
    },
    "tags": []
   },
   "outputs": [],
   "source": [
    "# Oasis Infobyte \n",
    "# Data Science Internship \n",
    "# Task 3 Car Price Prediction With Machine Learning \n",
    "# Submitted by - Sahil Sahu "
   ]
  },
  {
   "cell_type": "code",
   "execution_count": 2,
   "id": "0453067e",
   "metadata": {
    "execution": {
     "iopub.execute_input": "2023-07-22T08:07:36.256103Z",
     "iopub.status.busy": "2023-07-22T08:07:36.255676Z",
     "iopub.status.idle": "2023-07-22T08:07:36.260580Z",
     "shell.execute_reply": "2023-07-22T08:07:36.259456Z"
    },
    "papermill": {
     "duration": 0.02861,
     "end_time": "2023-07-22T08:07:36.262761",
     "exception": false,
     "start_time": "2023-07-22T08:07:36.234151",
     "status": "completed"
    },
    "tags": []
   },
   "outputs": [],
   "source": [
    "# Problem Statement "
   ]
  },
  {
   "cell_type": "code",
   "execution_count": 3,
   "id": "004678eb",
   "metadata": {
    "execution": {
     "iopub.execute_input": "2023-07-22T08:07:36.307342Z",
     "iopub.status.busy": "2023-07-22T08:07:36.306540Z",
     "iopub.status.idle": "2023-07-22T08:07:36.310972Z",
     "shell.execute_reply": "2023-07-22T08:07:36.310112Z"
    },
    "papermill": {
     "duration": 0.028055,
     "end_time": "2023-07-22T08:07:36.312982",
     "exception": false,
     "start_time": "2023-07-22T08:07:36.284927",
     "status": "completed"
    },
    "tags": []
   },
   "outputs": [],
   "source": [
    "# The price of a car depends on a lot of factors like the goodwill of the brand of the car,\n",
    "# features of the car, horsepower and the mileage it gives and many more. Car price\n",
    "# prediction is one of the major research areas in machine learning. So if you want to learn\n",
    "# how to train a car price prediction model then this project is for you."
   ]
  },
  {
   "cell_type": "code",
   "execution_count": 4,
   "id": "4a149ba4",
   "metadata": {
    "execution": {
     "iopub.execute_input": "2023-07-22T08:07:36.355323Z",
     "iopub.status.busy": "2023-07-22T08:07:36.354866Z",
     "iopub.status.idle": "2023-07-22T08:07:36.359278Z",
     "shell.execute_reply": "2023-07-22T08:07:36.358268Z"
    },
    "papermill": {
     "duration": 0.028029,
     "end_time": "2023-07-22T08:07:36.361418",
     "exception": false,
     "start_time": "2023-07-22T08:07:36.333389",
     "status": "completed"
    },
    "tags": []
   },
   "outputs": [],
   "source": [
    "# Importing Necessary Libraries "
   ]
  },
  {
   "cell_type": "code",
   "execution_count": 5,
   "id": "5fcd1e77",
   "metadata": {
    "execution": {
     "iopub.execute_input": "2023-07-22T08:07:36.404151Z",
     "iopub.status.busy": "2023-07-22T08:07:36.403391Z",
     "iopub.status.idle": "2023-07-22T08:07:37.939457Z",
     "shell.execute_reply": "2023-07-22T08:07:37.938327Z"
    },
    "papermill": {
     "duration": 1.560613,
     "end_time": "2023-07-22T08:07:37.942344",
     "exception": false,
     "start_time": "2023-07-22T08:07:36.381731",
     "status": "completed"
    },
    "tags": []
   },
   "outputs": [],
   "source": [
    "import warnings\n",
    "warnings.filterwarnings('ignore')\n",
    "import pandas as pd\n",
    "import numpy as np\n",
    "import matplotlib.pyplot as plt\n",
    "import seaborn as sns"
   ]
  },
  {
   "cell_type": "code",
   "execution_count": 6,
   "id": "edb51d71",
   "metadata": {
    "execution": {
     "iopub.execute_input": "2023-07-22T08:07:37.985269Z",
     "iopub.status.busy": "2023-07-22T08:07:37.984842Z",
     "iopub.status.idle": "2023-07-22T08:07:37.989762Z",
     "shell.execute_reply": "2023-07-22T08:07:37.988514Z"
    },
    "papermill": {
     "duration": 0.029473,
     "end_time": "2023-07-22T08:07:37.992185",
     "exception": false,
     "start_time": "2023-07-22T08:07:37.962712",
     "status": "completed"
    },
    "tags": []
   },
   "outputs": [],
   "source": [
    "# Importing the Given Dataset"
   ]
  },
  {
   "cell_type": "code",
   "execution_count": 7,
   "id": "b53a1eff",
   "metadata": {
    "execution": {
     "iopub.execute_input": "2023-07-22T08:07:38.034941Z",
     "iopub.status.busy": "2023-07-22T08:07:38.034557Z",
     "iopub.status.idle": "2023-07-22T08:07:38.110160Z",
     "shell.execute_reply": "2023-07-22T08:07:38.109016Z"
    },
    "papermill": {
     "duration": 0.100001,
     "end_time": "2023-07-22T08:07:38.112812",
     "exception": false,
     "start_time": "2023-07-22T08:07:38.012811",
     "status": "completed"
    },
    "tags": []
   },
   "outputs": [
    {
     "name": "stdout",
     "output_type": "stream",
     "text": [
      "Given Dataset:\n"
     ]
    },
    {
     "data": {
      "text/html": [
       "<div>\n",
       "<style scoped>\n",
       "    .dataframe tbody tr th:only-of-type {\n",
       "        vertical-align: middle;\n",
       "    }\n",
       "\n",
       "    .dataframe tbody tr th {\n",
       "        vertical-align: top;\n",
       "    }\n",
       "\n",
       "    .dataframe thead th {\n",
       "        text-align: right;\n",
       "    }\n",
       "</style>\n",
       "<table border=\"1\" class=\"dataframe\">\n",
       "  <thead>\n",
       "    <tr style=\"text-align: right;\">\n",
       "      <th></th>\n",
       "      <th>car_ID</th>\n",
       "      <th>symboling</th>\n",
       "      <th>CarName</th>\n",
       "      <th>fueltype</th>\n",
       "      <th>aspiration</th>\n",
       "      <th>doornumber</th>\n",
       "      <th>carbody</th>\n",
       "      <th>drivewheel</th>\n",
       "      <th>enginelocation</th>\n",
       "      <th>wheelbase</th>\n",
       "      <th>...</th>\n",
       "      <th>enginesize</th>\n",
       "      <th>fuelsystem</th>\n",
       "      <th>boreratio</th>\n",
       "      <th>stroke</th>\n",
       "      <th>compressionratio</th>\n",
       "      <th>horsepower</th>\n",
       "      <th>peakrpm</th>\n",
       "      <th>citympg</th>\n",
       "      <th>highwaympg</th>\n",
       "      <th>price</th>\n",
       "    </tr>\n",
       "  </thead>\n",
       "  <tbody>\n",
       "    <tr>\n",
       "      <th>0</th>\n",
       "      <td>1</td>\n",
       "      <td>3</td>\n",
       "      <td>alfa-romero giulia</td>\n",
       "      <td>gas</td>\n",
       "      <td>std</td>\n",
       "      <td>two</td>\n",
       "      <td>convertible</td>\n",
       "      <td>rwd</td>\n",
       "      <td>front</td>\n",
       "      <td>88.6</td>\n",
       "      <td>...</td>\n",
       "      <td>130</td>\n",
       "      <td>mpfi</td>\n",
       "      <td>3.47</td>\n",
       "      <td>2.68</td>\n",
       "      <td>9.0</td>\n",
       "      <td>111</td>\n",
       "      <td>5000</td>\n",
       "      <td>21</td>\n",
       "      <td>27</td>\n",
       "      <td>13495.0</td>\n",
       "    </tr>\n",
       "    <tr>\n",
       "      <th>1</th>\n",
       "      <td>2</td>\n",
       "      <td>3</td>\n",
       "      <td>alfa-romero stelvio</td>\n",
       "      <td>gas</td>\n",
       "      <td>std</td>\n",
       "      <td>two</td>\n",
       "      <td>convertible</td>\n",
       "      <td>rwd</td>\n",
       "      <td>front</td>\n",
       "      <td>88.6</td>\n",
       "      <td>...</td>\n",
       "      <td>130</td>\n",
       "      <td>mpfi</td>\n",
       "      <td>3.47</td>\n",
       "      <td>2.68</td>\n",
       "      <td>9.0</td>\n",
       "      <td>111</td>\n",
       "      <td>5000</td>\n",
       "      <td>21</td>\n",
       "      <td>27</td>\n",
       "      <td>16500.0</td>\n",
       "    </tr>\n",
       "    <tr>\n",
       "      <th>2</th>\n",
       "      <td>3</td>\n",
       "      <td>1</td>\n",
       "      <td>alfa-romero Quadrifoglio</td>\n",
       "      <td>gas</td>\n",
       "      <td>std</td>\n",
       "      <td>two</td>\n",
       "      <td>hatchback</td>\n",
       "      <td>rwd</td>\n",
       "      <td>front</td>\n",
       "      <td>94.5</td>\n",
       "      <td>...</td>\n",
       "      <td>152</td>\n",
       "      <td>mpfi</td>\n",
       "      <td>2.68</td>\n",
       "      <td>3.47</td>\n",
       "      <td>9.0</td>\n",
       "      <td>154</td>\n",
       "      <td>5000</td>\n",
       "      <td>19</td>\n",
       "      <td>26</td>\n",
       "      <td>16500.0</td>\n",
       "    </tr>\n",
       "    <tr>\n",
       "      <th>3</th>\n",
       "      <td>4</td>\n",
       "      <td>2</td>\n",
       "      <td>audi 100 ls</td>\n",
       "      <td>gas</td>\n",
       "      <td>std</td>\n",
       "      <td>four</td>\n",
       "      <td>sedan</td>\n",
       "      <td>fwd</td>\n",
       "      <td>front</td>\n",
       "      <td>99.8</td>\n",
       "      <td>...</td>\n",
       "      <td>109</td>\n",
       "      <td>mpfi</td>\n",
       "      <td>3.19</td>\n",
       "      <td>3.40</td>\n",
       "      <td>10.0</td>\n",
       "      <td>102</td>\n",
       "      <td>5500</td>\n",
       "      <td>24</td>\n",
       "      <td>30</td>\n",
       "      <td>13950.0</td>\n",
       "    </tr>\n",
       "    <tr>\n",
       "      <th>4</th>\n",
       "      <td>5</td>\n",
       "      <td>2</td>\n",
       "      <td>audi 100ls</td>\n",
       "      <td>gas</td>\n",
       "      <td>std</td>\n",
       "      <td>four</td>\n",
       "      <td>sedan</td>\n",
       "      <td>4wd</td>\n",
       "      <td>front</td>\n",
       "      <td>99.4</td>\n",
       "      <td>...</td>\n",
       "      <td>136</td>\n",
       "      <td>mpfi</td>\n",
       "      <td>3.19</td>\n",
       "      <td>3.40</td>\n",
       "      <td>8.0</td>\n",
       "      <td>115</td>\n",
       "      <td>5500</td>\n",
       "      <td>18</td>\n",
       "      <td>22</td>\n",
       "      <td>17450.0</td>\n",
       "    </tr>\n",
       "  </tbody>\n",
       "</table>\n",
       "<p>5 rows × 26 columns</p>\n",
       "</div>"
      ],
      "text/plain": [
       "   car_ID  symboling                   CarName fueltype aspiration doornumber  \\\n",
       "0       1          3        alfa-romero giulia      gas        std        two   \n",
       "1       2          3       alfa-romero stelvio      gas        std        two   \n",
       "2       3          1  alfa-romero Quadrifoglio      gas        std        two   \n",
       "3       4          2               audi 100 ls      gas        std       four   \n",
       "4       5          2                audi 100ls      gas        std       four   \n",
       "\n",
       "       carbody drivewheel enginelocation  wheelbase  ...  enginesize  \\\n",
       "0  convertible        rwd          front       88.6  ...         130   \n",
       "1  convertible        rwd          front       88.6  ...         130   \n",
       "2    hatchback        rwd          front       94.5  ...         152   \n",
       "3        sedan        fwd          front       99.8  ...         109   \n",
       "4        sedan        4wd          front       99.4  ...         136   \n",
       "\n",
       "   fuelsystem  boreratio  stroke compressionratio horsepower  peakrpm citympg  \\\n",
       "0        mpfi       3.47    2.68              9.0        111     5000      21   \n",
       "1        mpfi       3.47    2.68              9.0        111     5000      21   \n",
       "2        mpfi       2.68    3.47              9.0        154     5000      19   \n",
       "3        mpfi       3.19    3.40             10.0        102     5500      24   \n",
       "4        mpfi       3.19    3.40              8.0        115     5500      18   \n",
       "\n",
       "   highwaympg    price  \n",
       "0          27  13495.0  \n",
       "1          27  16500.0  \n",
       "2          26  16500.0  \n",
       "3          30  13950.0  \n",
       "4          22  17450.0  \n",
       "\n",
       "[5 rows x 26 columns]"
      ]
     },
     "execution_count": 7,
     "metadata": {},
     "output_type": "execute_result"
    }
   ],
   "source": [
    "print (\"Given Dataset:\")\n",
    "df=pd.read_csv('../input/car-data/CarPrice_Assignment.csv')\n",
    "df.head()"
   ]
  },
  {
   "cell_type": "code",
   "execution_count": 8,
   "id": "7c861944",
   "metadata": {
    "execution": {
     "iopub.execute_input": "2023-07-22T08:07:38.156903Z",
     "iopub.status.busy": "2023-07-22T08:07:38.156113Z",
     "iopub.status.idle": "2023-07-22T08:07:38.160563Z",
     "shell.execute_reply": "2023-07-22T08:07:38.159688Z"
    },
    "papermill": {
     "duration": 0.028838,
     "end_time": "2023-07-22T08:07:38.162842",
     "exception": false,
     "start_time": "2023-07-22T08:07:38.134004",
     "status": "completed"
    },
    "tags": []
   },
   "outputs": [],
   "source": [
    "# Reading & Understanding the Given Dataset "
   ]
  },
  {
   "cell_type": "code",
   "execution_count": 9,
   "id": "13ce2969",
   "metadata": {
    "execution": {
     "iopub.execute_input": "2023-07-22T08:07:38.207672Z",
     "iopub.status.busy": "2023-07-22T08:07:38.206959Z",
     "iopub.status.idle": "2023-07-22T08:07:38.214327Z",
     "shell.execute_reply": "2023-07-22T08:07:38.213036Z"
    },
    "papermill": {
     "duration": 0.033192,
     "end_time": "2023-07-22T08:07:38.217051",
     "exception": false,
     "start_time": "2023-07-22T08:07:38.183859",
     "status": "completed"
    },
    "tags": []
   },
   "outputs": [
    {
     "data": {
      "text/plain": [
       "(205, 26)"
      ]
     },
     "execution_count": 9,
     "metadata": {},
     "output_type": "execute_result"
    }
   ],
   "source": [
    "df.shape"
   ]
  },
  {
   "cell_type": "code",
   "execution_count": 10,
   "id": "c0f061c7",
   "metadata": {
    "execution": {
     "iopub.execute_input": "2023-07-22T08:07:38.262169Z",
     "iopub.status.busy": "2023-07-22T08:07:38.261722Z",
     "iopub.status.idle": "2023-07-22T08:07:38.269836Z",
     "shell.execute_reply": "2023-07-22T08:07:38.268681Z"
    },
    "papermill": {
     "duration": 0.032965,
     "end_time": "2023-07-22T08:07:38.272269",
     "exception": false,
     "start_time": "2023-07-22T08:07:38.239304",
     "status": "completed"
    },
    "tags": []
   },
   "outputs": [
    {
     "data": {
      "text/plain": [
       "Index(['car_ID', 'symboling', 'CarName', 'fueltype', 'aspiration',\n",
       "       'doornumber', 'carbody', 'drivewheel', 'enginelocation', 'wheelbase',\n",
       "       'carlength', 'carwidth', 'carheight', 'curbweight', 'enginetype',\n",
       "       'cylindernumber', 'enginesize', 'fuelsystem', 'boreratio', 'stroke',\n",
       "       'compressionratio', 'horsepower', 'peakrpm', 'citympg', 'highwaympg',\n",
       "       'price'],\n",
       "      dtype='object')"
      ]
     },
     "execution_count": 10,
     "metadata": {},
     "output_type": "execute_result"
    }
   ],
   "source": [
    "df.columns"
   ]
  },
  {
   "cell_type": "code",
   "execution_count": 11,
   "id": "0ca57517",
   "metadata": {
    "execution": {
     "iopub.execute_input": "2023-07-22T08:07:38.316450Z",
     "iopub.status.busy": "2023-07-22T08:07:38.315997Z",
     "iopub.status.idle": "2023-07-22T08:07:38.384908Z",
     "shell.execute_reply": "2023-07-22T08:07:38.383688Z"
    },
    "papermill": {
     "duration": 0.094058,
     "end_time": "2023-07-22T08:07:38.387568",
     "exception": false,
     "start_time": "2023-07-22T08:07:38.293510",
     "status": "completed"
    },
    "tags": []
   },
   "outputs": [
    {
     "data": {
      "text/html": [
       "<div>\n",
       "<style scoped>\n",
       "    .dataframe tbody tr th:only-of-type {\n",
       "        vertical-align: middle;\n",
       "    }\n",
       "\n",
       "    .dataframe tbody tr th {\n",
       "        vertical-align: top;\n",
       "    }\n",
       "\n",
       "    .dataframe thead th {\n",
       "        text-align: right;\n",
       "    }\n",
       "</style>\n",
       "<table border=\"1\" class=\"dataframe\">\n",
       "  <thead>\n",
       "    <tr style=\"text-align: right;\">\n",
       "      <th></th>\n",
       "      <th>car_ID</th>\n",
       "      <th>symboling</th>\n",
       "      <th>wheelbase</th>\n",
       "      <th>carlength</th>\n",
       "      <th>carwidth</th>\n",
       "      <th>carheight</th>\n",
       "      <th>curbweight</th>\n",
       "      <th>enginesize</th>\n",
       "      <th>boreratio</th>\n",
       "      <th>stroke</th>\n",
       "      <th>compressionratio</th>\n",
       "      <th>horsepower</th>\n",
       "      <th>peakrpm</th>\n",
       "      <th>citympg</th>\n",
       "      <th>highwaympg</th>\n",
       "      <th>price</th>\n",
       "    </tr>\n",
       "  </thead>\n",
       "  <tbody>\n",
       "    <tr>\n",
       "      <th>count</th>\n",
       "      <td>205.000000</td>\n",
       "      <td>205.000000</td>\n",
       "      <td>205.000000</td>\n",
       "      <td>205.000000</td>\n",
       "      <td>205.000000</td>\n",
       "      <td>205.000000</td>\n",
       "      <td>205.000000</td>\n",
       "      <td>205.000000</td>\n",
       "      <td>205.000000</td>\n",
       "      <td>205.000000</td>\n",
       "      <td>205.000000</td>\n",
       "      <td>205.000000</td>\n",
       "      <td>205.000000</td>\n",
       "      <td>205.000000</td>\n",
       "      <td>205.000000</td>\n",
       "      <td>205.000000</td>\n",
       "    </tr>\n",
       "    <tr>\n",
       "      <th>mean</th>\n",
       "      <td>103.000000</td>\n",
       "      <td>0.834146</td>\n",
       "      <td>98.756585</td>\n",
       "      <td>174.049268</td>\n",
       "      <td>65.907805</td>\n",
       "      <td>53.724878</td>\n",
       "      <td>2555.565854</td>\n",
       "      <td>126.907317</td>\n",
       "      <td>3.329756</td>\n",
       "      <td>3.255415</td>\n",
       "      <td>10.142537</td>\n",
       "      <td>104.117073</td>\n",
       "      <td>5125.121951</td>\n",
       "      <td>25.219512</td>\n",
       "      <td>30.751220</td>\n",
       "      <td>13276.710571</td>\n",
       "    </tr>\n",
       "    <tr>\n",
       "      <th>std</th>\n",
       "      <td>59.322565</td>\n",
       "      <td>1.245307</td>\n",
       "      <td>6.021776</td>\n",
       "      <td>12.337289</td>\n",
       "      <td>2.145204</td>\n",
       "      <td>2.443522</td>\n",
       "      <td>520.680204</td>\n",
       "      <td>41.642693</td>\n",
       "      <td>0.270844</td>\n",
       "      <td>0.313597</td>\n",
       "      <td>3.972040</td>\n",
       "      <td>39.544167</td>\n",
       "      <td>476.985643</td>\n",
       "      <td>6.542142</td>\n",
       "      <td>6.886443</td>\n",
       "      <td>7988.852332</td>\n",
       "    </tr>\n",
       "    <tr>\n",
       "      <th>min</th>\n",
       "      <td>1.000000</td>\n",
       "      <td>-2.000000</td>\n",
       "      <td>86.600000</td>\n",
       "      <td>141.100000</td>\n",
       "      <td>60.300000</td>\n",
       "      <td>47.800000</td>\n",
       "      <td>1488.000000</td>\n",
       "      <td>61.000000</td>\n",
       "      <td>2.540000</td>\n",
       "      <td>2.070000</td>\n",
       "      <td>7.000000</td>\n",
       "      <td>48.000000</td>\n",
       "      <td>4150.000000</td>\n",
       "      <td>13.000000</td>\n",
       "      <td>16.000000</td>\n",
       "      <td>5118.000000</td>\n",
       "    </tr>\n",
       "    <tr>\n",
       "      <th>25%</th>\n",
       "      <td>52.000000</td>\n",
       "      <td>0.000000</td>\n",
       "      <td>94.500000</td>\n",
       "      <td>166.300000</td>\n",
       "      <td>64.100000</td>\n",
       "      <td>52.000000</td>\n",
       "      <td>2145.000000</td>\n",
       "      <td>97.000000</td>\n",
       "      <td>3.150000</td>\n",
       "      <td>3.110000</td>\n",
       "      <td>8.600000</td>\n",
       "      <td>70.000000</td>\n",
       "      <td>4800.000000</td>\n",
       "      <td>19.000000</td>\n",
       "      <td>25.000000</td>\n",
       "      <td>7788.000000</td>\n",
       "    </tr>\n",
       "    <tr>\n",
       "      <th>50%</th>\n",
       "      <td>103.000000</td>\n",
       "      <td>1.000000</td>\n",
       "      <td>97.000000</td>\n",
       "      <td>173.200000</td>\n",
       "      <td>65.500000</td>\n",
       "      <td>54.100000</td>\n",
       "      <td>2414.000000</td>\n",
       "      <td>120.000000</td>\n",
       "      <td>3.310000</td>\n",
       "      <td>3.290000</td>\n",
       "      <td>9.000000</td>\n",
       "      <td>95.000000</td>\n",
       "      <td>5200.000000</td>\n",
       "      <td>24.000000</td>\n",
       "      <td>30.000000</td>\n",
       "      <td>10295.000000</td>\n",
       "    </tr>\n",
       "    <tr>\n",
       "      <th>75%</th>\n",
       "      <td>154.000000</td>\n",
       "      <td>2.000000</td>\n",
       "      <td>102.400000</td>\n",
       "      <td>183.100000</td>\n",
       "      <td>66.900000</td>\n",
       "      <td>55.500000</td>\n",
       "      <td>2935.000000</td>\n",
       "      <td>141.000000</td>\n",
       "      <td>3.580000</td>\n",
       "      <td>3.410000</td>\n",
       "      <td>9.400000</td>\n",
       "      <td>116.000000</td>\n",
       "      <td>5500.000000</td>\n",
       "      <td>30.000000</td>\n",
       "      <td>34.000000</td>\n",
       "      <td>16503.000000</td>\n",
       "    </tr>\n",
       "    <tr>\n",
       "      <th>max</th>\n",
       "      <td>205.000000</td>\n",
       "      <td>3.000000</td>\n",
       "      <td>120.900000</td>\n",
       "      <td>208.100000</td>\n",
       "      <td>72.300000</td>\n",
       "      <td>59.800000</td>\n",
       "      <td>4066.000000</td>\n",
       "      <td>326.000000</td>\n",
       "      <td>3.940000</td>\n",
       "      <td>4.170000</td>\n",
       "      <td>23.000000</td>\n",
       "      <td>288.000000</td>\n",
       "      <td>6600.000000</td>\n",
       "      <td>49.000000</td>\n",
       "      <td>54.000000</td>\n",
       "      <td>45400.000000</td>\n",
       "    </tr>\n",
       "  </tbody>\n",
       "</table>\n",
       "</div>"
      ],
      "text/plain": [
       "           car_ID   symboling   wheelbase   carlength    carwidth   carheight  \\\n",
       "count  205.000000  205.000000  205.000000  205.000000  205.000000  205.000000   \n",
       "mean   103.000000    0.834146   98.756585  174.049268   65.907805   53.724878   \n",
       "std     59.322565    1.245307    6.021776   12.337289    2.145204    2.443522   \n",
       "min      1.000000   -2.000000   86.600000  141.100000   60.300000   47.800000   \n",
       "25%     52.000000    0.000000   94.500000  166.300000   64.100000   52.000000   \n",
       "50%    103.000000    1.000000   97.000000  173.200000   65.500000   54.100000   \n",
       "75%    154.000000    2.000000  102.400000  183.100000   66.900000   55.500000   \n",
       "max    205.000000    3.000000  120.900000  208.100000   72.300000   59.800000   \n",
       "\n",
       "        curbweight  enginesize   boreratio      stroke  compressionratio  \\\n",
       "count   205.000000  205.000000  205.000000  205.000000        205.000000   \n",
       "mean   2555.565854  126.907317    3.329756    3.255415         10.142537   \n",
       "std     520.680204   41.642693    0.270844    0.313597          3.972040   \n",
       "min    1488.000000   61.000000    2.540000    2.070000          7.000000   \n",
       "25%    2145.000000   97.000000    3.150000    3.110000          8.600000   \n",
       "50%    2414.000000  120.000000    3.310000    3.290000          9.000000   \n",
       "75%    2935.000000  141.000000    3.580000    3.410000          9.400000   \n",
       "max    4066.000000  326.000000    3.940000    4.170000         23.000000   \n",
       "\n",
       "       horsepower      peakrpm     citympg  highwaympg         price  \n",
       "count  205.000000   205.000000  205.000000  205.000000    205.000000  \n",
       "mean   104.117073  5125.121951   25.219512   30.751220  13276.710571  \n",
       "std     39.544167   476.985643    6.542142    6.886443   7988.852332  \n",
       "min     48.000000  4150.000000   13.000000   16.000000   5118.000000  \n",
       "25%     70.000000  4800.000000   19.000000   25.000000   7788.000000  \n",
       "50%     95.000000  5200.000000   24.000000   30.000000  10295.000000  \n",
       "75%    116.000000  5500.000000   30.000000   34.000000  16503.000000  \n",
       "max    288.000000  6600.000000   49.000000   54.000000  45400.000000  "
      ]
     },
     "execution_count": 11,
     "metadata": {},
     "output_type": "execute_result"
    }
   ],
   "source": [
    "df.describe()"
   ]
  },
  {
   "cell_type": "code",
   "execution_count": 12,
   "id": "c7c7688b",
   "metadata": {
    "execution": {
     "iopub.execute_input": "2023-07-22T08:07:38.432933Z",
     "iopub.status.busy": "2023-07-22T08:07:38.432082Z",
     "iopub.status.idle": "2023-07-22T08:07:38.436618Z",
     "shell.execute_reply": "2023-07-22T08:07:38.435734Z"
    },
    "papermill": {
     "duration": 0.029455,
     "end_time": "2023-07-22T08:07:38.438758",
     "exception": false,
     "start_time": "2023-07-22T08:07:38.409303",
     "status": "completed"
    },
    "tags": []
   },
   "outputs": [],
   "source": [
    "# Dropping Unnecessary Columns \n",
    "# Getting a Concise Summary of the Dataframe "
   ]
  },
  {
   "cell_type": "code",
   "execution_count": 13,
   "id": "f8dfea92",
   "metadata": {
    "execution": {
     "iopub.execute_input": "2023-07-22T08:07:38.483946Z",
     "iopub.status.busy": "2023-07-22T08:07:38.483528Z",
     "iopub.status.idle": "2023-07-22T08:07:38.515589Z",
     "shell.execute_reply": "2023-07-22T08:07:38.513683Z"
    },
    "papermill": {
     "duration": 0.057566,
     "end_time": "2023-07-22T08:07:38.517976",
     "exception": false,
     "start_time": "2023-07-22T08:07:38.460410",
     "status": "completed"
    },
    "tags": []
   },
   "outputs": [
    {
     "name": "stdout",
     "output_type": "stream",
     "text": [
      "<class 'pandas.core.frame.DataFrame'>\n",
      "RangeIndex: 205 entries, 0 to 204\n",
      "Data columns (total 23 columns):\n",
      " #   Column            Non-Null Count  Dtype  \n",
      "---  ------            --------------  -----  \n",
      " 0   fueltype          205 non-null    object \n",
      " 1   aspiration        205 non-null    object \n",
      " 2   doornumber        205 non-null    object \n",
      " 3   carbody           205 non-null    object \n",
      " 4   drivewheel        205 non-null    object \n",
      " 5   enginelocation    205 non-null    object \n",
      " 6   wheelbase         205 non-null    float64\n",
      " 7   carlength         205 non-null    float64\n",
      " 8   carwidth          205 non-null    float64\n",
      " 9   carheight         205 non-null    float64\n",
      " 10  curbweight        205 non-null    int64  \n",
      " 11  enginetype        205 non-null    object \n",
      " 12  cylindernumber    205 non-null    object \n",
      " 13  enginesize        205 non-null    int64  \n",
      " 14  fuelsystem        205 non-null    object \n",
      " 15  boreratio         205 non-null    float64\n",
      " 16  stroke            205 non-null    float64\n",
      " 17  compressionratio  205 non-null    float64\n",
      " 18  horsepower        205 non-null    int64  \n",
      " 19  peakrpm           205 non-null    int64  \n",
      " 20  citympg           205 non-null    int64  \n",
      " 21  highwaympg        205 non-null    int64  \n",
      " 22  price             205 non-null    float64\n",
      "dtypes: float64(8), int64(6), object(9)\n",
      "memory usage: 37.0+ KB\n"
     ]
    }
   ],
   "source": [
    "df=df.drop(columns=['car_ID','symboling','CarName'])\n",
    "df.info()"
   ]
  },
  {
   "cell_type": "code",
   "execution_count": 14,
   "id": "ed9aed6d",
   "metadata": {
    "execution": {
     "iopub.execute_input": "2023-07-22T08:07:38.563273Z",
     "iopub.status.busy": "2023-07-22T08:07:38.562819Z",
     "iopub.status.idle": "2023-07-22T08:07:38.567872Z",
     "shell.execute_reply": "2023-07-22T08:07:38.566757Z"
    },
    "papermill": {
     "duration": 0.030518,
     "end_time": "2023-07-22T08:07:38.570320",
     "exception": false,
     "start_time": "2023-07-22T08:07:38.539802",
     "status": "completed"
    },
    "tags": []
   },
   "outputs": [],
   "source": [
    "# Converting the 'Boreratio' Column to Integer Type"
   ]
  },
  {
   "cell_type": "code",
   "execution_count": 15,
   "id": "8b37da78",
   "metadata": {
    "execution": {
     "iopub.execute_input": "2023-07-22T08:07:38.615624Z",
     "iopub.status.busy": "2023-07-22T08:07:38.615186Z",
     "iopub.status.idle": "2023-07-22T08:07:38.632364Z",
     "shell.execute_reply": "2023-07-22T08:07:38.630944Z"
    },
    "papermill": {
     "duration": 0.042693,
     "end_time": "2023-07-22T08:07:38.634903",
     "exception": false,
     "start_time": "2023-07-22T08:07:38.592210",
     "status": "completed"
    },
    "tags": []
   },
   "outputs": [
    {
     "name": "stdout",
     "output_type": "stream",
     "text": [
      "<class 'pandas.core.frame.DataFrame'>\n",
      "RangeIndex: 205 entries, 0 to 204\n",
      "Data columns (total 23 columns):\n",
      " #   Column            Non-Null Count  Dtype  \n",
      "---  ------            --------------  -----  \n",
      " 0   fueltype          205 non-null    object \n",
      " 1   aspiration        205 non-null    object \n",
      " 2   doornumber        205 non-null    object \n",
      " 3   carbody           205 non-null    object \n",
      " 4   drivewheel        205 non-null    object \n",
      " 5   enginelocation    205 non-null    object \n",
      " 6   wheelbase         205 non-null    float64\n",
      " 7   carlength         205 non-null    float64\n",
      " 8   carwidth          205 non-null    float64\n",
      " 9   carheight         205 non-null    float64\n",
      " 10  curbweight        205 non-null    int64  \n",
      " 11  enginetype        205 non-null    object \n",
      " 12  cylindernumber    205 non-null    object \n",
      " 13  enginesize        205 non-null    int64  \n",
      " 14  fuelsystem        205 non-null    object \n",
      " 15  boreratio         205 non-null    int64  \n",
      " 16  stroke            205 non-null    float64\n",
      " 17  compressionratio  205 non-null    float64\n",
      " 18  horsepower        205 non-null    int64  \n",
      " 19  peakrpm           205 non-null    int64  \n",
      " 20  citympg           205 non-null    int64  \n",
      " 21  highwaympg        205 non-null    int64  \n",
      " 22  price             205 non-null    float64\n",
      "dtypes: float64(7), int64(7), object(9)\n",
      "memory usage: 37.0+ KB\n"
     ]
    }
   ],
   "source": [
    "df['boreratio'] = df['boreratio'].astype(int)\n",
    "df.info()"
   ]
  },
  {
   "cell_type": "code",
   "execution_count": 16,
   "id": "7a1818d5",
   "metadata": {
    "execution": {
     "iopub.execute_input": "2023-07-22T08:07:38.682183Z",
     "iopub.status.busy": "2023-07-22T08:07:38.681806Z",
     "iopub.status.idle": "2023-07-22T08:07:38.686500Z",
     "shell.execute_reply": "2023-07-22T08:07:38.685335Z"
    },
    "papermill": {
     "duration": 0.031063,
     "end_time": "2023-07-22T08:07:38.688835",
     "exception": false,
     "start_time": "2023-07-22T08:07:38.657772",
     "status": "completed"
    },
    "tags": []
   },
   "outputs": [],
   "source": [
    "# Converting Additional Columns from float to int "
   ]
  },
  {
   "cell_type": "code",
   "execution_count": 17,
   "id": "af954206",
   "metadata": {
    "execution": {
     "iopub.execute_input": "2023-07-22T08:07:38.736457Z",
     "iopub.status.busy": "2023-07-22T08:07:38.735590Z",
     "iopub.status.idle": "2023-07-22T08:07:38.746114Z",
     "shell.execute_reply": "2023-07-22T08:07:38.744972Z"
    },
    "papermill": {
     "duration": 0.037513,
     "end_time": "2023-07-22T08:07:38.748974",
     "exception": false,
     "start_time": "2023-07-22T08:07:38.711461",
     "status": "completed"
    },
    "tags": []
   },
   "outputs": [],
   "source": [
    "df['stroke'] = df['stroke'].astype(int)\n",
    "df['compressionratio'] = df['compressionratio'].astype(int)\n",
    "df['price'] = df['price'].astype(int)\n",
    "df['wheelbase'] = df['wheelbase'].astype(int)\n",
    "df['carlength'] = df['carlength'].astype(int)\n",
    "df['carwidth'] = df['carwidth'].astype(int)\n",
    "df['carheight'] = df['carheight'].astype(int)"
   ]
  },
  {
   "cell_type": "code",
   "execution_count": 18,
   "id": "077c8662",
   "metadata": {
    "execution": {
     "iopub.execute_input": "2023-07-22T08:07:38.797447Z",
     "iopub.status.busy": "2023-07-22T08:07:38.797016Z",
     "iopub.status.idle": "2023-07-22T08:07:38.802309Z",
     "shell.execute_reply": "2023-07-22T08:07:38.801076Z"
    },
    "papermill": {
     "duration": 0.032441,
     "end_time": "2023-07-22T08:07:38.804967",
     "exception": false,
     "start_time": "2023-07-22T08:07:38.772526",
     "status": "completed"
    },
    "tags": []
   },
   "outputs": [],
   "source": [
    "# Displaying the count of values in the 'fuelsystem' column"
   ]
  },
  {
   "cell_type": "code",
   "execution_count": 19,
   "id": "3e91bfb2",
   "metadata": {
    "execution": {
     "iopub.execute_input": "2023-07-22T08:07:38.852014Z",
     "iopub.status.busy": "2023-07-22T08:07:38.851596Z",
     "iopub.status.idle": "2023-07-22T08:07:38.864414Z",
     "shell.execute_reply": "2023-07-22T08:07:38.862911Z"
    },
    "papermill": {
     "duration": 0.039576,
     "end_time": "2023-07-22T08:07:38.866964",
     "exception": false,
     "start_time": "2023-07-22T08:07:38.827388",
     "status": "completed"
    },
    "tags": []
   },
   "outputs": [
    {
     "data": {
      "text/plain": [
       "mpfi    94\n",
       "2bbl    66\n",
       "idi     20\n",
       "1bbl    11\n",
       "spdi     9\n",
       "4bbl     3\n",
       "mfi      1\n",
       "spfi     1\n",
       "Name: fuelsystem, dtype: int64"
      ]
     },
     "execution_count": 19,
     "metadata": {},
     "output_type": "execute_result"
    }
   ],
   "source": [
    "df.fuelsystem.value_counts()"
   ]
  },
  {
   "cell_type": "code",
   "execution_count": 20,
   "id": "7af4354f",
   "metadata": {
    "execution": {
     "iopub.execute_input": "2023-07-22T08:07:38.917491Z",
     "iopub.status.busy": "2023-07-22T08:07:38.915983Z",
     "iopub.status.idle": "2023-07-22T08:07:38.922565Z",
     "shell.execute_reply": "2023-07-22T08:07:38.921174Z"
    },
    "papermill": {
     "duration": 0.036057,
     "end_time": "2023-07-22T08:07:38.925559",
     "exception": false,
     "start_time": "2023-07-22T08:07:38.889502",
     "status": "completed"
    },
    "tags": []
   },
   "outputs": [],
   "source": [
    "# Checking for Missing Values in the DataFrame"
   ]
  },
  {
   "cell_type": "code",
   "execution_count": 21,
   "id": "858c3f91",
   "metadata": {
    "execution": {
     "iopub.execute_input": "2023-07-22T08:07:38.972983Z",
     "iopub.status.busy": "2023-07-22T08:07:38.972533Z",
     "iopub.status.idle": "2023-07-22T08:07:38.984862Z",
     "shell.execute_reply": "2023-07-22T08:07:38.983452Z"
    },
    "papermill": {
     "duration": 0.038557,
     "end_time": "2023-07-22T08:07:38.987441",
     "exception": false,
     "start_time": "2023-07-22T08:07:38.948884",
     "status": "completed"
    },
    "tags": []
   },
   "outputs": [
    {
     "data": {
      "text/plain": [
       "fueltype            0\n",
       "aspiration          0\n",
       "doornumber          0\n",
       "carbody             0\n",
       "drivewheel          0\n",
       "enginelocation      0\n",
       "wheelbase           0\n",
       "carlength           0\n",
       "carwidth            0\n",
       "carheight           0\n",
       "curbweight          0\n",
       "enginetype          0\n",
       "cylindernumber      0\n",
       "enginesize          0\n",
       "fuelsystem          0\n",
       "boreratio           0\n",
       "stroke              0\n",
       "compressionratio    0\n",
       "horsepower          0\n",
       "peakrpm             0\n",
       "citympg             0\n",
       "highwaympg          0\n",
       "price               0\n",
       "dtype: int64"
      ]
     },
     "execution_count": 21,
     "metadata": {},
     "output_type": "execute_result"
    }
   ],
   "source": [
    "df.isnull().sum()"
   ]
  },
  {
   "cell_type": "code",
   "execution_count": 22,
   "id": "cfd4d886",
   "metadata": {
    "execution": {
     "iopub.execute_input": "2023-07-22T08:07:39.034232Z",
     "iopub.status.busy": "2023-07-22T08:07:39.033150Z",
     "iopub.status.idle": "2023-07-22T08:07:39.038394Z",
     "shell.execute_reply": "2023-07-22T08:07:39.037318Z"
    },
    "papermill": {
     "duration": 0.031277,
     "end_time": "2023-07-22T08:07:39.041047",
     "exception": false,
     "start_time": "2023-07-22T08:07:39.009770",
     "status": "completed"
    },
    "tags": []
   },
   "outputs": [],
   "source": [
    "# Dropping the 'fuelsystem' Column from the DataFrame"
   ]
  },
  {
   "cell_type": "code",
   "execution_count": 23,
   "id": "5bb3ffa1",
   "metadata": {
    "execution": {
     "iopub.execute_input": "2023-07-22T08:07:39.088610Z",
     "iopub.status.busy": "2023-07-22T08:07:39.088197Z",
     "iopub.status.idle": "2023-07-22T08:07:39.104037Z",
     "shell.execute_reply": "2023-07-22T08:07:39.103238Z"
    },
    "papermill": {
     "duration": 0.042297,
     "end_time": "2023-07-22T08:07:39.106915",
     "exception": false,
     "start_time": "2023-07-22T08:07:39.064618",
     "status": "completed"
    },
    "tags": []
   },
   "outputs": [
    {
     "name": "stdout",
     "output_type": "stream",
     "text": [
      "<class 'pandas.core.frame.DataFrame'>\n",
      "RangeIndex: 205 entries, 0 to 204\n",
      "Data columns (total 22 columns):\n",
      " #   Column            Non-Null Count  Dtype \n",
      "---  ------            --------------  ----- \n",
      " 0   fueltype          205 non-null    object\n",
      " 1   aspiration        205 non-null    object\n",
      " 2   doornumber        205 non-null    object\n",
      " 3   carbody           205 non-null    object\n",
      " 4   drivewheel        205 non-null    object\n",
      " 5   enginelocation    205 non-null    object\n",
      " 6   wheelbase         205 non-null    int64 \n",
      " 7   carlength         205 non-null    int64 \n",
      " 8   carwidth          205 non-null    int64 \n",
      " 9   carheight         205 non-null    int64 \n",
      " 10  curbweight        205 non-null    int64 \n",
      " 11  enginetype        205 non-null    object\n",
      " 12  cylindernumber    205 non-null    object\n",
      " 13  enginesize        205 non-null    int64 \n",
      " 14  boreratio         205 non-null    int64 \n",
      " 15  stroke            205 non-null    int64 \n",
      " 16  compressionratio  205 non-null    int64 \n",
      " 17  horsepower        205 non-null    int64 \n",
      " 18  peakrpm           205 non-null    int64 \n",
      " 19  citympg           205 non-null    int64 \n",
      " 20  highwaympg        205 non-null    int64 \n",
      " 21  price             205 non-null    int64 \n",
      "dtypes: int64(14), object(8)\n",
      "memory usage: 35.4+ KB\n"
     ]
    }
   ],
   "source": [
    "df=df.drop(columns=['fuelsystem'])\n",
    "df.info()"
   ]
  },
  {
   "cell_type": "code",
   "execution_count": 24,
   "id": "c3b851be",
   "metadata": {
    "execution": {
     "iopub.execute_input": "2023-07-22T08:07:39.153609Z",
     "iopub.status.busy": "2023-07-22T08:07:39.152765Z",
     "iopub.status.idle": "2023-07-22T08:07:39.157819Z",
     "shell.execute_reply": "2023-07-22T08:07:39.156668Z"
    },
    "papermill": {
     "duration": 0.030815,
     "end_time": "2023-07-22T08:07:39.160106",
     "exception": false,
     "start_time": "2023-07-22T08:07:39.129291",
     "status": "completed"
    },
    "tags": []
   },
   "outputs": [],
   "source": [
    "# Displaying the Count of Values in the 'enginetype' Column"
   ]
  },
  {
   "cell_type": "code",
   "execution_count": 25,
   "id": "904420ca",
   "metadata": {
    "execution": {
     "iopub.execute_input": "2023-07-22T08:07:39.206543Z",
     "iopub.status.busy": "2023-07-22T08:07:39.206142Z",
     "iopub.status.idle": "2023-07-22T08:07:39.213916Z",
     "shell.execute_reply": "2023-07-22T08:07:39.213091Z"
    },
    "papermill": {
     "duration": 0.033634,
     "end_time": "2023-07-22T08:07:39.216117",
     "exception": false,
     "start_time": "2023-07-22T08:07:39.182483",
     "status": "completed"
    },
    "tags": []
   },
   "outputs": [
    {
     "data": {
      "text/plain": [
       "ohc      148\n",
       "ohcf      15\n",
       "ohcv      13\n",
       "dohc      12\n",
       "l         12\n",
       "rotor      4\n",
       "dohcv      1\n",
       "Name: enginetype, dtype: int64"
      ]
     },
     "execution_count": 25,
     "metadata": {},
     "output_type": "execute_result"
    }
   ],
   "source": [
    "df.enginetype.value_counts()"
   ]
  },
  {
   "cell_type": "code",
   "execution_count": 26,
   "id": "196b1d16",
   "metadata": {
    "execution": {
     "iopub.execute_input": "2023-07-22T08:07:39.263660Z",
     "iopub.status.busy": "2023-07-22T08:07:39.262699Z",
     "iopub.status.idle": "2023-07-22T08:07:39.269211Z",
     "shell.execute_reply": "2023-07-22T08:07:39.268325Z"
    },
    "papermill": {
     "duration": 0.033057,
     "end_time": "2023-07-22T08:07:39.271706",
     "exception": false,
     "start_time": "2023-07-22T08:07:39.238649",
     "status": "completed"
    },
    "tags": []
   },
   "outputs": [],
   "source": [
    "# Dropping the 'enginetype' column from the DataFrame\n",
    "# Displaying the count of values in the 'cylindernumber' column"
   ]
  },
  {
   "cell_type": "code",
   "execution_count": 27,
   "id": "7d81ae92",
   "metadata": {
    "execution": {
     "iopub.execute_input": "2023-07-22T08:07:39.318897Z",
     "iopub.status.busy": "2023-07-22T08:07:39.318124Z",
     "iopub.status.idle": "2023-07-22T08:07:39.327366Z",
     "shell.execute_reply": "2023-07-22T08:07:39.326499Z"
    },
    "papermill": {
     "duration": 0.035507,
     "end_time": "2023-07-22T08:07:39.329644",
     "exception": false,
     "start_time": "2023-07-22T08:07:39.294137",
     "status": "completed"
    },
    "tags": []
   },
   "outputs": [
    {
     "data": {
      "text/plain": [
       "four      159\n",
       "six        24\n",
       "five       11\n",
       "eight       5\n",
       "two         4\n",
       "three       1\n",
       "twelve      1\n",
       "Name: cylindernumber, dtype: int64"
      ]
     },
     "execution_count": 27,
     "metadata": {},
     "output_type": "execute_result"
    }
   ],
   "source": [
    "df=df.drop(columns=['enginetype'])\n",
    "df.cylindernumber.value_counts()"
   ]
  },
  {
   "cell_type": "code",
   "execution_count": 28,
   "id": "130589db",
   "metadata": {
    "execution": {
     "iopub.execute_input": "2023-07-22T08:07:39.377357Z",
     "iopub.status.busy": "2023-07-22T08:07:39.376658Z",
     "iopub.status.idle": "2023-07-22T08:07:39.380936Z",
     "shell.execute_reply": "2023-07-22T08:07:39.380006Z"
    },
    "papermill": {
     "duration": 0.030661,
     "end_time": "2023-07-22T08:07:39.383178",
     "exception": false,
     "start_time": "2023-07-22T08:07:39.352517",
     "status": "completed"
    },
    "tags": []
   },
   "outputs": [],
   "source": [
    "# Displaying the count of values in the 'cylindernumber' column\n",
    "# Displaying the count of values in the 'enginelocation' column\n",
    "# Dropping the 'cylindernumber' column from the DataFrame"
   ]
  },
  {
   "cell_type": "code",
   "execution_count": 29,
   "id": "ef4f524a",
   "metadata": {
    "execution": {
     "iopub.execute_input": "2023-07-22T08:07:39.430625Z",
     "iopub.status.busy": "2023-07-22T08:07:39.430180Z",
     "iopub.status.idle": "2023-07-22T08:07:39.439957Z",
     "shell.execute_reply": "2023-07-22T08:07:39.439020Z"
    },
    "papermill": {
     "duration": 0.0365,
     "end_time": "2023-07-22T08:07:39.442337",
     "exception": false,
     "start_time": "2023-07-22T08:07:39.405837",
     "status": "completed"
    },
    "tags": []
   },
   "outputs": [
    {
     "data": {
      "text/plain": [
       "front    202\n",
       "rear       3\n",
       "Name: enginelocation, dtype: int64"
      ]
     },
     "execution_count": 29,
     "metadata": {},
     "output_type": "execute_result"
    }
   ],
   "source": [
    "df=df.drop(columns=['cylindernumber'])\n",
    "df.enginelocation.value_counts()"
   ]
  },
  {
   "cell_type": "code",
   "execution_count": 30,
   "id": "4202425f",
   "metadata": {
    "execution": {
     "iopub.execute_input": "2023-07-22T08:07:39.491562Z",
     "iopub.status.busy": "2023-07-22T08:07:39.490844Z",
     "iopub.status.idle": "2023-07-22T08:07:39.494941Z",
     "shell.execute_reply": "2023-07-22T08:07:39.494081Z"
    },
    "papermill": {
     "duration": 0.0314,
     "end_time": "2023-07-22T08:07:39.497257",
     "exception": false,
     "start_time": "2023-07-22T08:07:39.465857",
     "status": "completed"
    },
    "tags": []
   },
   "outputs": [],
   "source": [
    "# Converting 'enginelocation' values from categorical to binary (front: 1, rear: 0)"
   ]
  },
  {
   "cell_type": "code",
   "execution_count": 31,
   "id": "a486af00",
   "metadata": {
    "execution": {
     "iopub.execute_input": "2023-07-22T08:07:39.545966Z",
     "iopub.status.busy": "2023-07-22T08:07:39.545303Z",
     "iopub.status.idle": "2023-07-22T08:07:39.587172Z",
     "shell.execute_reply": "2023-07-22T08:07:39.585923Z"
    },
    "papermill": {
     "duration": 0.069371,
     "end_time": "2023-07-22T08:07:39.589985",
     "exception": false,
     "start_time": "2023-07-22T08:07:39.520614",
     "status": "completed"
    },
    "tags": []
   },
   "outputs": [],
   "source": [
    "for i in range(0, 205):\n",
    "    if df.loc[i, 'enginelocation'] == \"front\":\n",
    "        df.loc[i, 'enginelocation'] = 1\n",
    "    else:\n",
    "        df.loc[i, 'enginelocation'] = 0"
   ]
  },
  {
   "cell_type": "code",
   "execution_count": 32,
   "id": "ef8c8dd2",
   "metadata": {
    "execution": {
     "iopub.execute_input": "2023-07-22T08:07:39.637983Z",
     "iopub.status.busy": "2023-07-22T08:07:39.637074Z",
     "iopub.status.idle": "2023-07-22T08:07:39.659381Z",
     "shell.execute_reply": "2023-07-22T08:07:39.658222Z"
    },
    "papermill": {
     "duration": 0.048915,
     "end_time": "2023-07-22T08:07:39.661784",
     "exception": false,
     "start_time": "2023-07-22T08:07:39.612869",
     "status": "completed"
    },
    "tags": []
   },
   "outputs": [
    {
     "data": {
      "text/html": [
       "<div>\n",
       "<style scoped>\n",
       "    .dataframe tbody tr th:only-of-type {\n",
       "        vertical-align: middle;\n",
       "    }\n",
       "\n",
       "    .dataframe tbody tr th {\n",
       "        vertical-align: top;\n",
       "    }\n",
       "\n",
       "    .dataframe thead th {\n",
       "        text-align: right;\n",
       "    }\n",
       "</style>\n",
       "<table border=\"1\" class=\"dataframe\">\n",
       "  <thead>\n",
       "    <tr style=\"text-align: right;\">\n",
       "      <th></th>\n",
       "      <th>fueltype</th>\n",
       "      <th>aspiration</th>\n",
       "      <th>doornumber</th>\n",
       "      <th>carbody</th>\n",
       "      <th>drivewheel</th>\n",
       "      <th>enginelocation</th>\n",
       "      <th>wheelbase</th>\n",
       "      <th>carlength</th>\n",
       "      <th>carwidth</th>\n",
       "      <th>carheight</th>\n",
       "      <th>curbweight</th>\n",
       "      <th>enginesize</th>\n",
       "      <th>boreratio</th>\n",
       "      <th>stroke</th>\n",
       "      <th>compressionratio</th>\n",
       "      <th>horsepower</th>\n",
       "      <th>peakrpm</th>\n",
       "      <th>citympg</th>\n",
       "      <th>highwaympg</th>\n",
       "      <th>price</th>\n",
       "    </tr>\n",
       "  </thead>\n",
       "  <tbody>\n",
       "    <tr>\n",
       "      <th>0</th>\n",
       "      <td>gas</td>\n",
       "      <td>std</td>\n",
       "      <td>two</td>\n",
       "      <td>convertible</td>\n",
       "      <td>rwd</td>\n",
       "      <td>1</td>\n",
       "      <td>88</td>\n",
       "      <td>168</td>\n",
       "      <td>64</td>\n",
       "      <td>48</td>\n",
       "      <td>2548</td>\n",
       "      <td>130</td>\n",
       "      <td>3</td>\n",
       "      <td>2</td>\n",
       "      <td>9</td>\n",
       "      <td>111</td>\n",
       "      <td>5000</td>\n",
       "      <td>21</td>\n",
       "      <td>27</td>\n",
       "      <td>13495</td>\n",
       "    </tr>\n",
       "    <tr>\n",
       "      <th>1</th>\n",
       "      <td>gas</td>\n",
       "      <td>std</td>\n",
       "      <td>two</td>\n",
       "      <td>convertible</td>\n",
       "      <td>rwd</td>\n",
       "      <td>1</td>\n",
       "      <td>88</td>\n",
       "      <td>168</td>\n",
       "      <td>64</td>\n",
       "      <td>48</td>\n",
       "      <td>2548</td>\n",
       "      <td>130</td>\n",
       "      <td>3</td>\n",
       "      <td>2</td>\n",
       "      <td>9</td>\n",
       "      <td>111</td>\n",
       "      <td>5000</td>\n",
       "      <td>21</td>\n",
       "      <td>27</td>\n",
       "      <td>16500</td>\n",
       "    </tr>\n",
       "    <tr>\n",
       "      <th>2</th>\n",
       "      <td>gas</td>\n",
       "      <td>std</td>\n",
       "      <td>two</td>\n",
       "      <td>hatchback</td>\n",
       "      <td>rwd</td>\n",
       "      <td>1</td>\n",
       "      <td>94</td>\n",
       "      <td>171</td>\n",
       "      <td>65</td>\n",
       "      <td>52</td>\n",
       "      <td>2823</td>\n",
       "      <td>152</td>\n",
       "      <td>2</td>\n",
       "      <td>3</td>\n",
       "      <td>9</td>\n",
       "      <td>154</td>\n",
       "      <td>5000</td>\n",
       "      <td>19</td>\n",
       "      <td>26</td>\n",
       "      <td>16500</td>\n",
       "    </tr>\n",
       "    <tr>\n",
       "      <th>3</th>\n",
       "      <td>gas</td>\n",
       "      <td>std</td>\n",
       "      <td>four</td>\n",
       "      <td>sedan</td>\n",
       "      <td>fwd</td>\n",
       "      <td>1</td>\n",
       "      <td>99</td>\n",
       "      <td>176</td>\n",
       "      <td>66</td>\n",
       "      <td>54</td>\n",
       "      <td>2337</td>\n",
       "      <td>109</td>\n",
       "      <td>3</td>\n",
       "      <td>3</td>\n",
       "      <td>10</td>\n",
       "      <td>102</td>\n",
       "      <td>5500</td>\n",
       "      <td>24</td>\n",
       "      <td>30</td>\n",
       "      <td>13950</td>\n",
       "    </tr>\n",
       "    <tr>\n",
       "      <th>4</th>\n",
       "      <td>gas</td>\n",
       "      <td>std</td>\n",
       "      <td>four</td>\n",
       "      <td>sedan</td>\n",
       "      <td>4wd</td>\n",
       "      <td>1</td>\n",
       "      <td>99</td>\n",
       "      <td>176</td>\n",
       "      <td>66</td>\n",
       "      <td>54</td>\n",
       "      <td>2824</td>\n",
       "      <td>136</td>\n",
       "      <td>3</td>\n",
       "      <td>3</td>\n",
       "      <td>8</td>\n",
       "      <td>115</td>\n",
       "      <td>5500</td>\n",
       "      <td>18</td>\n",
       "      <td>22</td>\n",
       "      <td>17450</td>\n",
       "    </tr>\n",
       "    <tr>\n",
       "      <th>5</th>\n",
       "      <td>gas</td>\n",
       "      <td>std</td>\n",
       "      <td>two</td>\n",
       "      <td>sedan</td>\n",
       "      <td>fwd</td>\n",
       "      <td>1</td>\n",
       "      <td>99</td>\n",
       "      <td>177</td>\n",
       "      <td>66</td>\n",
       "      <td>53</td>\n",
       "      <td>2507</td>\n",
       "      <td>136</td>\n",
       "      <td>3</td>\n",
       "      <td>3</td>\n",
       "      <td>8</td>\n",
       "      <td>110</td>\n",
       "      <td>5500</td>\n",
       "      <td>19</td>\n",
       "      <td>25</td>\n",
       "      <td>15250</td>\n",
       "    </tr>\n",
       "    <tr>\n",
       "      <th>6</th>\n",
       "      <td>gas</td>\n",
       "      <td>std</td>\n",
       "      <td>four</td>\n",
       "      <td>sedan</td>\n",
       "      <td>fwd</td>\n",
       "      <td>1</td>\n",
       "      <td>105</td>\n",
       "      <td>192</td>\n",
       "      <td>71</td>\n",
       "      <td>55</td>\n",
       "      <td>2844</td>\n",
       "      <td>136</td>\n",
       "      <td>3</td>\n",
       "      <td>3</td>\n",
       "      <td>8</td>\n",
       "      <td>110</td>\n",
       "      <td>5500</td>\n",
       "      <td>19</td>\n",
       "      <td>25</td>\n",
       "      <td>17710</td>\n",
       "    </tr>\n",
       "    <tr>\n",
       "      <th>7</th>\n",
       "      <td>gas</td>\n",
       "      <td>std</td>\n",
       "      <td>four</td>\n",
       "      <td>wagon</td>\n",
       "      <td>fwd</td>\n",
       "      <td>1</td>\n",
       "      <td>105</td>\n",
       "      <td>192</td>\n",
       "      <td>71</td>\n",
       "      <td>55</td>\n",
       "      <td>2954</td>\n",
       "      <td>136</td>\n",
       "      <td>3</td>\n",
       "      <td>3</td>\n",
       "      <td>8</td>\n",
       "      <td>110</td>\n",
       "      <td>5500</td>\n",
       "      <td>19</td>\n",
       "      <td>25</td>\n",
       "      <td>18920</td>\n",
       "    </tr>\n",
       "    <tr>\n",
       "      <th>8</th>\n",
       "      <td>gas</td>\n",
       "      <td>turbo</td>\n",
       "      <td>four</td>\n",
       "      <td>sedan</td>\n",
       "      <td>fwd</td>\n",
       "      <td>1</td>\n",
       "      <td>105</td>\n",
       "      <td>192</td>\n",
       "      <td>71</td>\n",
       "      <td>55</td>\n",
       "      <td>3086</td>\n",
       "      <td>131</td>\n",
       "      <td>3</td>\n",
       "      <td>3</td>\n",
       "      <td>8</td>\n",
       "      <td>140</td>\n",
       "      <td>5500</td>\n",
       "      <td>17</td>\n",
       "      <td>20</td>\n",
       "      <td>23875</td>\n",
       "    </tr>\n",
       "    <tr>\n",
       "      <th>9</th>\n",
       "      <td>gas</td>\n",
       "      <td>turbo</td>\n",
       "      <td>two</td>\n",
       "      <td>hatchback</td>\n",
       "      <td>4wd</td>\n",
       "      <td>1</td>\n",
       "      <td>99</td>\n",
       "      <td>178</td>\n",
       "      <td>67</td>\n",
       "      <td>52</td>\n",
       "      <td>3053</td>\n",
       "      <td>131</td>\n",
       "      <td>3</td>\n",
       "      <td>3</td>\n",
       "      <td>7</td>\n",
       "      <td>160</td>\n",
       "      <td>5500</td>\n",
       "      <td>16</td>\n",
       "      <td>22</td>\n",
       "      <td>17859</td>\n",
       "    </tr>\n",
       "  </tbody>\n",
       "</table>\n",
       "</div>"
      ],
      "text/plain": [
       "  fueltype aspiration doornumber      carbody drivewheel enginelocation  \\\n",
       "0      gas        std        two  convertible        rwd              1   \n",
       "1      gas        std        two  convertible        rwd              1   \n",
       "2      gas        std        two    hatchback        rwd              1   \n",
       "3      gas        std       four        sedan        fwd              1   \n",
       "4      gas        std       four        sedan        4wd              1   \n",
       "5      gas        std        two        sedan        fwd              1   \n",
       "6      gas        std       four        sedan        fwd              1   \n",
       "7      gas        std       four        wagon        fwd              1   \n",
       "8      gas      turbo       four        sedan        fwd              1   \n",
       "9      gas      turbo        two    hatchback        4wd              1   \n",
       "\n",
       "   wheelbase  carlength  carwidth  carheight  curbweight  enginesize  \\\n",
       "0         88        168        64         48        2548         130   \n",
       "1         88        168        64         48        2548         130   \n",
       "2         94        171        65         52        2823         152   \n",
       "3         99        176        66         54        2337         109   \n",
       "4         99        176        66         54        2824         136   \n",
       "5         99        177        66         53        2507         136   \n",
       "6        105        192        71         55        2844         136   \n",
       "7        105        192        71         55        2954         136   \n",
       "8        105        192        71         55        3086         131   \n",
       "9         99        178        67         52        3053         131   \n",
       "\n",
       "   boreratio  stroke  compressionratio  horsepower  peakrpm  citympg  \\\n",
       "0          3       2                 9         111     5000       21   \n",
       "1          3       2                 9         111     5000       21   \n",
       "2          2       3                 9         154     5000       19   \n",
       "3          3       3                10         102     5500       24   \n",
       "4          3       3                 8         115     5500       18   \n",
       "5          3       3                 8         110     5500       19   \n",
       "6          3       3                 8         110     5500       19   \n",
       "7          3       3                 8         110     5500       19   \n",
       "8          3       3                 8         140     5500       17   \n",
       "9          3       3                 7         160     5500       16   \n",
       "\n",
       "   highwaympg  price  \n",
       "0          27  13495  \n",
       "1          27  16500  \n",
       "2          26  16500  \n",
       "3          30  13950  \n",
       "4          22  17450  \n",
       "5          25  15250  \n",
       "6          25  17710  \n",
       "7          25  18920  \n",
       "8          20  23875  \n",
       "9          22  17859  "
      ]
     },
     "execution_count": 32,
     "metadata": {},
     "output_type": "execute_result"
    }
   ],
   "source": [
    "df.head(10)"
   ]
  },
  {
   "cell_type": "code",
   "execution_count": 33,
   "id": "7d23494d",
   "metadata": {
    "execution": {
     "iopub.execute_input": "2023-07-22T08:07:39.712335Z",
     "iopub.status.busy": "2023-07-22T08:07:39.711212Z",
     "iopub.status.idle": "2023-07-22T08:07:39.716330Z",
     "shell.execute_reply": "2023-07-22T08:07:39.715203Z"
    },
    "papermill": {
     "duration": 0.033661,
     "end_time": "2023-07-22T08:07:39.718793",
     "exception": false,
     "start_time": "2023-07-22T08:07:39.685132",
     "status": "completed"
    },
    "tags": []
   },
   "outputs": [],
   "source": [
    "# Displaying the count of values in the 'drivewheel' column"
   ]
  },
  {
   "cell_type": "code",
   "execution_count": 34,
   "id": "bca63a78",
   "metadata": {
    "execution": {
     "iopub.execute_input": "2023-07-22T08:07:39.767279Z",
     "iopub.status.busy": "2023-07-22T08:07:39.766846Z",
     "iopub.status.idle": "2023-07-22T08:07:39.775702Z",
     "shell.execute_reply": "2023-07-22T08:07:39.774571Z"
    },
    "papermill": {
     "duration": 0.035972,
     "end_time": "2023-07-22T08:07:39.778100",
     "exception": false,
     "start_time": "2023-07-22T08:07:39.742128",
     "status": "completed"
    },
    "tags": []
   },
   "outputs": [
    {
     "data": {
      "text/plain": [
       "fwd    120\n",
       "rwd     76\n",
       "4wd      9\n",
       "Name: drivewheel, dtype: int64"
      ]
     },
     "execution_count": 34,
     "metadata": {},
     "output_type": "execute_result"
    }
   ],
   "source": [
    "df.drivewheel.value_counts()"
   ]
  },
  {
   "cell_type": "code",
   "execution_count": 35,
   "id": "c0ed1520",
   "metadata": {
    "execution": {
     "iopub.execute_input": "2023-07-22T08:07:39.829583Z",
     "iopub.status.busy": "2023-07-22T08:07:39.829155Z",
     "iopub.status.idle": "2023-07-22T08:07:39.834234Z",
     "shell.execute_reply": "2023-07-22T08:07:39.832985Z"
    },
    "papermill": {
     "duration": 0.033873,
     "end_time": "2023-07-22T08:07:39.836795",
     "exception": false,
     "start_time": "2023-07-22T08:07:39.802922",
     "status": "completed"
    },
    "tags": []
   },
   "outputs": [],
   "source": [
    "# Transforming Categorical to Numerical \n",
    "# Converting 'drivewheel' values from Categorical to Numeric (fwd: 1, 4wd: 0, rwd: 2)"
   ]
  },
  {
   "cell_type": "code",
   "execution_count": 36,
   "id": "8e9749ca",
   "metadata": {
    "execution": {
     "iopub.execute_input": "2023-07-22T08:07:39.887238Z",
     "iopub.status.busy": "2023-07-22T08:07:39.886839Z",
     "iopub.status.idle": "2023-07-22T08:07:39.967325Z",
     "shell.execute_reply": "2023-07-22T08:07:39.966092Z"
    },
    "papermill": {
     "duration": 0.10912,
     "end_time": "2023-07-22T08:07:39.970035",
     "exception": false,
     "start_time": "2023-07-22T08:07:39.860915",
     "status": "completed"
    },
    "tags": []
   },
   "outputs": [],
   "source": [
    "for i in range(0, 205):\n",
    "    df.loc[i, 'drivewheel'] = 1 if df.loc[i, 'drivewheel'] == \"fwd\" else 0\n",
    "    df.loc[i, 'drivewheel'] = 2 if df.loc[i, 'drivewheel'] != \"fwd\" and df.loc[i, 'drivewheel'] != \"4wd\" else df.loc[i, 'drivewheel']"
   ]
  },
  {
   "cell_type": "code",
   "execution_count": 37,
   "id": "0dc4ced1",
   "metadata": {
    "execution": {
     "iopub.execute_input": "2023-07-22T08:07:40.022373Z",
     "iopub.status.busy": "2023-07-22T08:07:40.021967Z",
     "iopub.status.idle": "2023-07-22T08:07:40.026061Z",
     "shell.execute_reply": "2023-07-22T08:07:40.025140Z"
    },
    "papermill": {
     "duration": 0.033201,
     "end_time": "2023-07-22T08:07:40.028323",
     "exception": false,
     "start_time": "2023-07-22T08:07:39.995122",
     "status": "completed"
    },
    "tags": []
   },
   "outputs": [],
   "source": [
    "# Displaying the number of unique values in the 'drivewheel' column"
   ]
  },
  {
   "cell_type": "code",
   "execution_count": 38,
   "id": "a446d1ce",
   "metadata": {
    "execution": {
     "iopub.execute_input": "2023-07-22T08:07:40.077957Z",
     "iopub.status.busy": "2023-07-22T08:07:40.077536Z",
     "iopub.status.idle": "2023-07-22T08:07:40.086478Z",
     "shell.execute_reply": "2023-07-22T08:07:40.085086Z"
    },
    "papermill": {
     "duration": 0.03682,
     "end_time": "2023-07-22T08:07:40.089516",
     "exception": false,
     "start_time": "2023-07-22T08:07:40.052696",
     "status": "completed"
    },
    "tags": []
   },
   "outputs": [
    {
     "data": {
      "text/plain": [
       "<bound method IndexOpsMixin.nunique of 0      2\n",
       "1      2\n",
       "2      2\n",
       "3      2\n",
       "4      2\n",
       "      ..\n",
       "200    2\n",
       "201    2\n",
       "202    2\n",
       "203    2\n",
       "204    2\n",
       "Name: drivewheel, Length: 205, dtype: object>"
      ]
     },
     "execution_count": 38,
     "metadata": {},
     "output_type": "execute_result"
    }
   ],
   "source": [
    "df['drivewheel'].nunique"
   ]
  },
  {
   "cell_type": "code",
   "execution_count": 39,
   "id": "2d0e7791",
   "metadata": {
    "execution": {
     "iopub.execute_input": "2023-07-22T08:07:40.139192Z",
     "iopub.status.busy": "2023-07-22T08:07:40.138373Z",
     "iopub.status.idle": "2023-07-22T08:07:40.142550Z",
     "shell.execute_reply": "2023-07-22T08:07:40.141781Z"
    },
    "papermill": {
     "duration": 0.031929,
     "end_time": "2023-07-22T08:07:40.145139",
     "exception": false,
     "start_time": "2023-07-22T08:07:40.113210",
     "status": "completed"
    },
    "tags": []
   },
   "outputs": [],
   "source": [
    "# Dropping the 'carbody' and 'aspiration' columns from the DataFrame"
   ]
  },
  {
   "cell_type": "code",
   "execution_count": 40,
   "id": "8ed4f4bd",
   "metadata": {
    "execution": {
     "iopub.execute_input": "2023-07-22T08:07:40.195845Z",
     "iopub.status.busy": "2023-07-22T08:07:40.195139Z",
     "iopub.status.idle": "2023-07-22T08:07:40.205603Z",
     "shell.execute_reply": "2023-07-22T08:07:40.204665Z"
    },
    "papermill": {
     "duration": 0.037852,
     "end_time": "2023-07-22T08:07:40.207738",
     "exception": false,
     "start_time": "2023-07-22T08:07:40.169886",
     "status": "completed"
    },
    "tags": []
   },
   "outputs": [
    {
     "data": {
      "text/plain": [
       "four    115\n",
       "two      90\n",
       "Name: doornumber, dtype: int64"
      ]
     },
     "execution_count": 40,
     "metadata": {},
     "output_type": "execute_result"
    }
   ],
   "source": [
    "df=df.drop(columns=['carbody','aspiration'])\n",
    "df.doornumber.value_counts()"
   ]
  },
  {
   "cell_type": "code",
   "execution_count": 41,
   "id": "5f75a267",
   "metadata": {
    "execution": {
     "iopub.execute_input": "2023-07-22T08:07:40.256747Z",
     "iopub.status.busy": "2023-07-22T08:07:40.256338Z",
     "iopub.status.idle": "2023-07-22T08:07:40.261146Z",
     "shell.execute_reply": "2023-07-22T08:07:40.259998Z"
    },
    "papermill": {
     "duration": 0.032054,
     "end_time": "2023-07-22T08:07:40.263462",
     "exception": false,
     "start_time": "2023-07-22T08:07:40.231408",
     "status": "completed"
    },
    "tags": []
   },
   "outputs": [],
   "source": [
    "# Displaying the count of values in the 'doornumber' column\n",
    "# Converting 'doornumber' values from categorical to binary (four: 1, two: 0)"
   ]
  },
  {
   "cell_type": "code",
   "execution_count": 42,
   "id": "e89a4572",
   "metadata": {
    "execution": {
     "iopub.execute_input": "2023-07-22T08:07:40.313277Z",
     "iopub.status.busy": "2023-07-22T08:07:40.312135Z",
     "iopub.status.idle": "2023-07-22T08:07:40.318747Z",
     "shell.execute_reply": "2023-07-22T08:07:40.317908Z"
    },
    "papermill": {
     "duration": 0.033835,
     "end_time": "2023-07-22T08:07:40.320967",
     "exception": false,
     "start_time": "2023-07-22T08:07:40.287132",
     "status": "completed"
    },
    "tags": []
   },
   "outputs": [],
   "source": [
    "def convert_doornumber(doornumber):\n",
    "    if doornumber == \"four\":\n",
    "        return 1\n",
    "    else:\n",
    "        return 0\n",
    "\n",
    "df['doornumber'] = df['doornumber'].apply(convert_doornumber)\n"
   ]
  },
  {
   "cell_type": "code",
   "execution_count": 43,
   "id": "07e22b47",
   "metadata": {
    "execution": {
     "iopub.execute_input": "2023-07-22T08:07:40.370422Z",
     "iopub.status.busy": "2023-07-22T08:07:40.369678Z",
     "iopub.status.idle": "2023-07-22T08:07:40.377370Z",
     "shell.execute_reply": "2023-07-22T08:07:40.376471Z"
    },
    "papermill": {
     "duration": 0.035144,
     "end_time": "2023-07-22T08:07:40.379708",
     "exception": false,
     "start_time": "2023-07-22T08:07:40.344564",
     "status": "completed"
    },
    "tags": []
   },
   "outputs": [
    {
     "data": {
      "text/plain": [
       "0      0\n",
       "1      0\n",
       "2      0\n",
       "3      1\n",
       "4      1\n",
       "      ..\n",
       "200    1\n",
       "201    1\n",
       "202    1\n",
       "203    1\n",
       "204    1\n",
       "Name: doornumber, Length: 205, dtype: int64"
      ]
     },
     "execution_count": 43,
     "metadata": {},
     "output_type": "execute_result"
    }
   ],
   "source": [
    "df['doornumber']"
   ]
  },
  {
   "cell_type": "code",
   "execution_count": 44,
   "id": "27032a3e",
   "metadata": {
    "execution": {
     "iopub.execute_input": "2023-07-22T08:07:40.429426Z",
     "iopub.status.busy": "2023-07-22T08:07:40.428980Z",
     "iopub.status.idle": "2023-07-22T08:07:40.433148Z",
     "shell.execute_reply": "2023-07-22T08:07:40.432310Z"
    },
    "papermill": {
     "duration": 0.031669,
     "end_time": "2023-07-22T08:07:40.435320",
     "exception": false,
     "start_time": "2023-07-22T08:07:40.403651",
     "status": "completed"
    },
    "tags": []
   },
   "outputs": [],
   "source": [
    "# Displaying the Count of Values in the 'fueltype' Column"
   ]
  },
  {
   "cell_type": "code",
   "execution_count": 45,
   "id": "6005636a",
   "metadata": {
    "execution": {
     "iopub.execute_input": "2023-07-22T08:07:40.485175Z",
     "iopub.status.busy": "2023-07-22T08:07:40.484499Z",
     "iopub.status.idle": "2023-07-22T08:07:40.492207Z",
     "shell.execute_reply": "2023-07-22T08:07:40.491349Z"
    },
    "papermill": {
     "duration": 0.035227,
     "end_time": "2023-07-22T08:07:40.494431",
     "exception": false,
     "start_time": "2023-07-22T08:07:40.459204",
     "status": "completed"
    },
    "tags": []
   },
   "outputs": [
    {
     "data": {
      "text/plain": [
       "gas       185\n",
       "diesel     20\n",
       "Name: fueltype, dtype: int64"
      ]
     },
     "execution_count": 45,
     "metadata": {},
     "output_type": "execute_result"
    }
   ],
   "source": [
    "df.fueltype.value_counts()"
   ]
  },
  {
   "cell_type": "code",
   "execution_count": 46,
   "id": "51b660b6",
   "metadata": {
    "execution": {
     "iopub.execute_input": "2023-07-22T08:07:40.544892Z",
     "iopub.status.busy": "2023-07-22T08:07:40.544165Z",
     "iopub.status.idle": "2023-07-22T08:07:40.548443Z",
     "shell.execute_reply": "2023-07-22T08:07:40.547653Z"
    },
    "papermill": {
     "duration": 0.031979,
     "end_time": "2023-07-22T08:07:40.550621",
     "exception": false,
     "start_time": "2023-07-22T08:07:40.518642",
     "status": "completed"
    },
    "tags": []
   },
   "outputs": [],
   "source": [
    "# Converting 'fueltype' values from categorical to binary (gas: 1, diesel: 0)"
   ]
  },
  {
   "cell_type": "code",
   "execution_count": 47,
   "id": "5aead83e",
   "metadata": {
    "execution": {
     "iopub.execute_input": "2023-07-22T08:07:40.600635Z",
     "iopub.status.busy": "2023-07-22T08:07:40.599851Z",
     "iopub.status.idle": "2023-07-22T08:07:40.607401Z",
     "shell.execute_reply": "2023-07-22T08:07:40.606109Z"
    },
    "papermill": {
     "duration": 0.035245,
     "end_time": "2023-07-22T08:07:40.609916",
     "exception": false,
     "start_time": "2023-07-22T08:07:40.574671",
     "status": "completed"
    },
    "tags": []
   },
   "outputs": [],
   "source": [
    "def convert_fueltype(fueltype):\n",
    "    if fueltype == \"gas\":\n",
    "        return 1\n",
    "    else:\n",
    "        return 0\n",
    "\n",
    "df['fueltype'] = df['fueltype'].apply(convert_fueltype)"
   ]
  },
  {
   "cell_type": "code",
   "execution_count": 48,
   "id": "92cb590e",
   "metadata": {
    "execution": {
     "iopub.execute_input": "2023-07-22T08:07:40.660572Z",
     "iopub.status.busy": "2023-07-22T08:07:40.660128Z",
     "iopub.status.idle": "2023-07-22T08:07:40.668145Z",
     "shell.execute_reply": "2023-07-22T08:07:40.667317Z"
    },
    "papermill": {
     "duration": 0.036292,
     "end_time": "2023-07-22T08:07:40.670294",
     "exception": false,
     "start_time": "2023-07-22T08:07:40.634002",
     "status": "completed"
    },
    "tags": []
   },
   "outputs": [
    {
     "data": {
      "text/plain": [
       "0      1\n",
       "1      1\n",
       "2      1\n",
       "3      1\n",
       "4      1\n",
       "      ..\n",
       "200    1\n",
       "201    1\n",
       "202    1\n",
       "203    0\n",
       "204    1\n",
       "Name: fueltype, Length: 205, dtype: int64"
      ]
     },
     "execution_count": 48,
     "metadata": {},
     "output_type": "execute_result"
    }
   ],
   "source": [
    "df['fueltype']"
   ]
  },
  {
   "cell_type": "code",
   "execution_count": 49,
   "id": "5d1f2409",
   "metadata": {
    "execution": {
     "iopub.execute_input": "2023-07-22T08:07:40.720789Z",
     "iopub.status.busy": "2023-07-22T08:07:40.719804Z",
     "iopub.status.idle": "2023-07-22T08:07:40.739889Z",
     "shell.execute_reply": "2023-07-22T08:07:40.738779Z"
    },
    "papermill": {
     "duration": 0.047667,
     "end_time": "2023-07-22T08:07:40.742119",
     "exception": false,
     "start_time": "2023-07-22T08:07:40.694452",
     "status": "completed"
    },
    "tags": []
   },
   "outputs": [
    {
     "data": {
      "text/html": [
       "<div>\n",
       "<style scoped>\n",
       "    .dataframe tbody tr th:only-of-type {\n",
       "        vertical-align: middle;\n",
       "    }\n",
       "\n",
       "    .dataframe tbody tr th {\n",
       "        vertical-align: top;\n",
       "    }\n",
       "\n",
       "    .dataframe thead th {\n",
       "        text-align: right;\n",
       "    }\n",
       "</style>\n",
       "<table border=\"1\" class=\"dataframe\">\n",
       "  <thead>\n",
       "    <tr style=\"text-align: right;\">\n",
       "      <th></th>\n",
       "      <th>fueltype</th>\n",
       "      <th>doornumber</th>\n",
       "      <th>drivewheel</th>\n",
       "      <th>enginelocation</th>\n",
       "      <th>wheelbase</th>\n",
       "      <th>carlength</th>\n",
       "      <th>carwidth</th>\n",
       "      <th>carheight</th>\n",
       "      <th>curbweight</th>\n",
       "      <th>enginesize</th>\n",
       "      <th>boreratio</th>\n",
       "      <th>stroke</th>\n",
       "      <th>compressionratio</th>\n",
       "      <th>horsepower</th>\n",
       "      <th>peakrpm</th>\n",
       "      <th>citympg</th>\n",
       "      <th>highwaympg</th>\n",
       "      <th>price</th>\n",
       "    </tr>\n",
       "  </thead>\n",
       "  <tbody>\n",
       "    <tr>\n",
       "      <th>0</th>\n",
       "      <td>1</td>\n",
       "      <td>0</td>\n",
       "      <td>2</td>\n",
       "      <td>1</td>\n",
       "      <td>88</td>\n",
       "      <td>168</td>\n",
       "      <td>64</td>\n",
       "      <td>48</td>\n",
       "      <td>2548</td>\n",
       "      <td>130</td>\n",
       "      <td>3</td>\n",
       "      <td>2</td>\n",
       "      <td>9</td>\n",
       "      <td>111</td>\n",
       "      <td>5000</td>\n",
       "      <td>21</td>\n",
       "      <td>27</td>\n",
       "      <td>13495</td>\n",
       "    </tr>\n",
       "    <tr>\n",
       "      <th>1</th>\n",
       "      <td>1</td>\n",
       "      <td>0</td>\n",
       "      <td>2</td>\n",
       "      <td>1</td>\n",
       "      <td>88</td>\n",
       "      <td>168</td>\n",
       "      <td>64</td>\n",
       "      <td>48</td>\n",
       "      <td>2548</td>\n",
       "      <td>130</td>\n",
       "      <td>3</td>\n",
       "      <td>2</td>\n",
       "      <td>9</td>\n",
       "      <td>111</td>\n",
       "      <td>5000</td>\n",
       "      <td>21</td>\n",
       "      <td>27</td>\n",
       "      <td>16500</td>\n",
       "    </tr>\n",
       "    <tr>\n",
       "      <th>2</th>\n",
       "      <td>1</td>\n",
       "      <td>0</td>\n",
       "      <td>2</td>\n",
       "      <td>1</td>\n",
       "      <td>94</td>\n",
       "      <td>171</td>\n",
       "      <td>65</td>\n",
       "      <td>52</td>\n",
       "      <td>2823</td>\n",
       "      <td>152</td>\n",
       "      <td>2</td>\n",
       "      <td>3</td>\n",
       "      <td>9</td>\n",
       "      <td>154</td>\n",
       "      <td>5000</td>\n",
       "      <td>19</td>\n",
       "      <td>26</td>\n",
       "      <td>16500</td>\n",
       "    </tr>\n",
       "    <tr>\n",
       "      <th>3</th>\n",
       "      <td>1</td>\n",
       "      <td>1</td>\n",
       "      <td>2</td>\n",
       "      <td>1</td>\n",
       "      <td>99</td>\n",
       "      <td>176</td>\n",
       "      <td>66</td>\n",
       "      <td>54</td>\n",
       "      <td>2337</td>\n",
       "      <td>109</td>\n",
       "      <td>3</td>\n",
       "      <td>3</td>\n",
       "      <td>10</td>\n",
       "      <td>102</td>\n",
       "      <td>5500</td>\n",
       "      <td>24</td>\n",
       "      <td>30</td>\n",
       "      <td>13950</td>\n",
       "    </tr>\n",
       "    <tr>\n",
       "      <th>4</th>\n",
       "      <td>1</td>\n",
       "      <td>1</td>\n",
       "      <td>2</td>\n",
       "      <td>1</td>\n",
       "      <td>99</td>\n",
       "      <td>176</td>\n",
       "      <td>66</td>\n",
       "      <td>54</td>\n",
       "      <td>2824</td>\n",
       "      <td>136</td>\n",
       "      <td>3</td>\n",
       "      <td>3</td>\n",
       "      <td>8</td>\n",
       "      <td>115</td>\n",
       "      <td>5500</td>\n",
       "      <td>18</td>\n",
       "      <td>22</td>\n",
       "      <td>17450</td>\n",
       "    </tr>\n",
       "    <tr>\n",
       "      <th>5</th>\n",
       "      <td>1</td>\n",
       "      <td>0</td>\n",
       "      <td>2</td>\n",
       "      <td>1</td>\n",
       "      <td>99</td>\n",
       "      <td>177</td>\n",
       "      <td>66</td>\n",
       "      <td>53</td>\n",
       "      <td>2507</td>\n",
       "      <td>136</td>\n",
       "      <td>3</td>\n",
       "      <td>3</td>\n",
       "      <td>8</td>\n",
       "      <td>110</td>\n",
       "      <td>5500</td>\n",
       "      <td>19</td>\n",
       "      <td>25</td>\n",
       "      <td>15250</td>\n",
       "    </tr>\n",
       "    <tr>\n",
       "      <th>6</th>\n",
       "      <td>1</td>\n",
       "      <td>1</td>\n",
       "      <td>2</td>\n",
       "      <td>1</td>\n",
       "      <td>105</td>\n",
       "      <td>192</td>\n",
       "      <td>71</td>\n",
       "      <td>55</td>\n",
       "      <td>2844</td>\n",
       "      <td>136</td>\n",
       "      <td>3</td>\n",
       "      <td>3</td>\n",
       "      <td>8</td>\n",
       "      <td>110</td>\n",
       "      <td>5500</td>\n",
       "      <td>19</td>\n",
       "      <td>25</td>\n",
       "      <td>17710</td>\n",
       "    </tr>\n",
       "    <tr>\n",
       "      <th>7</th>\n",
       "      <td>1</td>\n",
       "      <td>1</td>\n",
       "      <td>2</td>\n",
       "      <td>1</td>\n",
       "      <td>105</td>\n",
       "      <td>192</td>\n",
       "      <td>71</td>\n",
       "      <td>55</td>\n",
       "      <td>2954</td>\n",
       "      <td>136</td>\n",
       "      <td>3</td>\n",
       "      <td>3</td>\n",
       "      <td>8</td>\n",
       "      <td>110</td>\n",
       "      <td>5500</td>\n",
       "      <td>19</td>\n",
       "      <td>25</td>\n",
       "      <td>18920</td>\n",
       "    </tr>\n",
       "    <tr>\n",
       "      <th>8</th>\n",
       "      <td>1</td>\n",
       "      <td>1</td>\n",
       "      <td>2</td>\n",
       "      <td>1</td>\n",
       "      <td>105</td>\n",
       "      <td>192</td>\n",
       "      <td>71</td>\n",
       "      <td>55</td>\n",
       "      <td>3086</td>\n",
       "      <td>131</td>\n",
       "      <td>3</td>\n",
       "      <td>3</td>\n",
       "      <td>8</td>\n",
       "      <td>140</td>\n",
       "      <td>5500</td>\n",
       "      <td>17</td>\n",
       "      <td>20</td>\n",
       "      <td>23875</td>\n",
       "    </tr>\n",
       "    <tr>\n",
       "      <th>9</th>\n",
       "      <td>1</td>\n",
       "      <td>0</td>\n",
       "      <td>2</td>\n",
       "      <td>1</td>\n",
       "      <td>99</td>\n",
       "      <td>178</td>\n",
       "      <td>67</td>\n",
       "      <td>52</td>\n",
       "      <td>3053</td>\n",
       "      <td>131</td>\n",
       "      <td>3</td>\n",
       "      <td>3</td>\n",
       "      <td>7</td>\n",
       "      <td>160</td>\n",
       "      <td>5500</td>\n",
       "      <td>16</td>\n",
       "      <td>22</td>\n",
       "      <td>17859</td>\n",
       "    </tr>\n",
       "  </tbody>\n",
       "</table>\n",
       "</div>"
      ],
      "text/plain": [
       "   fueltype  doornumber drivewheel enginelocation  wheelbase  carlength  \\\n",
       "0         1           0          2              1         88        168   \n",
       "1         1           0          2              1         88        168   \n",
       "2         1           0          2              1         94        171   \n",
       "3         1           1          2              1         99        176   \n",
       "4         1           1          2              1         99        176   \n",
       "5         1           0          2              1         99        177   \n",
       "6         1           1          2              1        105        192   \n",
       "7         1           1          2              1        105        192   \n",
       "8         1           1          2              1        105        192   \n",
       "9         1           0          2              1         99        178   \n",
       "\n",
       "   carwidth  carheight  curbweight  enginesize  boreratio  stroke  \\\n",
       "0        64         48        2548         130          3       2   \n",
       "1        64         48        2548         130          3       2   \n",
       "2        65         52        2823         152          2       3   \n",
       "3        66         54        2337         109          3       3   \n",
       "4        66         54        2824         136          3       3   \n",
       "5        66         53        2507         136          3       3   \n",
       "6        71         55        2844         136          3       3   \n",
       "7        71         55        2954         136          3       3   \n",
       "8        71         55        3086         131          3       3   \n",
       "9        67         52        3053         131          3       3   \n",
       "\n",
       "   compressionratio  horsepower  peakrpm  citympg  highwaympg  price  \n",
       "0                 9         111     5000       21          27  13495  \n",
       "1                 9         111     5000       21          27  16500  \n",
       "2                 9         154     5000       19          26  16500  \n",
       "3                10         102     5500       24          30  13950  \n",
       "4                 8         115     5500       18          22  17450  \n",
       "5                 8         110     5500       19          25  15250  \n",
       "6                 8         110     5500       19          25  17710  \n",
       "7                 8         110     5500       19          25  18920  \n",
       "8                 8         140     5500       17          20  23875  \n",
       "9                 7         160     5500       16          22  17859  "
      ]
     },
     "execution_count": 49,
     "metadata": {},
     "output_type": "execute_result"
    }
   ],
   "source": [
    "df.head(10)"
   ]
  },
  {
   "cell_type": "code",
   "execution_count": 50,
   "id": "74db954f",
   "metadata": {
    "execution": {
     "iopub.execute_input": "2023-07-22T08:07:40.795407Z",
     "iopub.status.busy": "2023-07-22T08:07:40.794083Z",
     "iopub.status.idle": "2023-07-22T08:07:40.799580Z",
     "shell.execute_reply": "2023-07-22T08:07:40.798708Z"
    },
    "papermill": {
     "duration": 0.035356,
     "end_time": "2023-07-22T08:07:40.802322",
     "exception": false,
     "start_time": "2023-07-22T08:07:40.766966",
     "status": "completed"
    },
    "tags": []
   },
   "outputs": [],
   "source": [
    "# Extracting features (independent variables) from the DataFrame"
   ]
  },
  {
   "cell_type": "code",
   "execution_count": 51,
   "id": "92539f0e",
   "metadata": {
    "execution": {
     "iopub.execute_input": "2023-07-22T08:07:40.855276Z",
     "iopub.status.busy": "2023-07-22T08:07:40.854481Z",
     "iopub.status.idle": "2023-07-22T08:07:40.881450Z",
     "shell.execute_reply": "2023-07-22T08:07:40.880206Z"
    },
    "papermill": {
     "duration": 0.055707,
     "end_time": "2023-07-22T08:07:40.883917",
     "exception": false,
     "start_time": "2023-07-22T08:07:40.828210",
     "status": "completed"
    },
    "tags": []
   },
   "outputs": [
    {
     "data": {
      "text/html": [
       "<div>\n",
       "<style scoped>\n",
       "    .dataframe tbody tr th:only-of-type {\n",
       "        vertical-align: middle;\n",
       "    }\n",
       "\n",
       "    .dataframe tbody tr th {\n",
       "        vertical-align: top;\n",
       "    }\n",
       "\n",
       "    .dataframe thead th {\n",
       "        text-align: right;\n",
       "    }\n",
       "</style>\n",
       "<table border=\"1\" class=\"dataframe\">\n",
       "  <thead>\n",
       "    <tr style=\"text-align: right;\">\n",
       "      <th></th>\n",
       "      <th>fueltype</th>\n",
       "      <th>doornumber</th>\n",
       "      <th>drivewheel</th>\n",
       "      <th>enginelocation</th>\n",
       "      <th>wheelbase</th>\n",
       "      <th>carlength</th>\n",
       "      <th>carwidth</th>\n",
       "      <th>carheight</th>\n",
       "      <th>curbweight</th>\n",
       "      <th>enginesize</th>\n",
       "      <th>boreratio</th>\n",
       "      <th>stroke</th>\n",
       "      <th>compressionratio</th>\n",
       "      <th>horsepower</th>\n",
       "      <th>peakrpm</th>\n",
       "      <th>citympg</th>\n",
       "      <th>highwaympg</th>\n",
       "    </tr>\n",
       "  </thead>\n",
       "  <tbody>\n",
       "    <tr>\n",
       "      <th>0</th>\n",
       "      <td>1</td>\n",
       "      <td>0</td>\n",
       "      <td>2</td>\n",
       "      <td>1</td>\n",
       "      <td>88</td>\n",
       "      <td>168</td>\n",
       "      <td>64</td>\n",
       "      <td>48</td>\n",
       "      <td>2548</td>\n",
       "      <td>130</td>\n",
       "      <td>3</td>\n",
       "      <td>2</td>\n",
       "      <td>9</td>\n",
       "      <td>111</td>\n",
       "      <td>5000</td>\n",
       "      <td>21</td>\n",
       "      <td>27</td>\n",
       "    </tr>\n",
       "    <tr>\n",
       "      <th>1</th>\n",
       "      <td>1</td>\n",
       "      <td>0</td>\n",
       "      <td>2</td>\n",
       "      <td>1</td>\n",
       "      <td>88</td>\n",
       "      <td>168</td>\n",
       "      <td>64</td>\n",
       "      <td>48</td>\n",
       "      <td>2548</td>\n",
       "      <td>130</td>\n",
       "      <td>3</td>\n",
       "      <td>2</td>\n",
       "      <td>9</td>\n",
       "      <td>111</td>\n",
       "      <td>5000</td>\n",
       "      <td>21</td>\n",
       "      <td>27</td>\n",
       "    </tr>\n",
       "    <tr>\n",
       "      <th>2</th>\n",
       "      <td>1</td>\n",
       "      <td>0</td>\n",
       "      <td>2</td>\n",
       "      <td>1</td>\n",
       "      <td>94</td>\n",
       "      <td>171</td>\n",
       "      <td>65</td>\n",
       "      <td>52</td>\n",
       "      <td>2823</td>\n",
       "      <td>152</td>\n",
       "      <td>2</td>\n",
       "      <td>3</td>\n",
       "      <td>9</td>\n",
       "      <td>154</td>\n",
       "      <td>5000</td>\n",
       "      <td>19</td>\n",
       "      <td>26</td>\n",
       "    </tr>\n",
       "    <tr>\n",
       "      <th>3</th>\n",
       "      <td>1</td>\n",
       "      <td>1</td>\n",
       "      <td>2</td>\n",
       "      <td>1</td>\n",
       "      <td>99</td>\n",
       "      <td>176</td>\n",
       "      <td>66</td>\n",
       "      <td>54</td>\n",
       "      <td>2337</td>\n",
       "      <td>109</td>\n",
       "      <td>3</td>\n",
       "      <td>3</td>\n",
       "      <td>10</td>\n",
       "      <td>102</td>\n",
       "      <td>5500</td>\n",
       "      <td>24</td>\n",
       "      <td>30</td>\n",
       "    </tr>\n",
       "    <tr>\n",
       "      <th>4</th>\n",
       "      <td>1</td>\n",
       "      <td>1</td>\n",
       "      <td>2</td>\n",
       "      <td>1</td>\n",
       "      <td>99</td>\n",
       "      <td>176</td>\n",
       "      <td>66</td>\n",
       "      <td>54</td>\n",
       "      <td>2824</td>\n",
       "      <td>136</td>\n",
       "      <td>3</td>\n",
       "      <td>3</td>\n",
       "      <td>8</td>\n",
       "      <td>115</td>\n",
       "      <td>5500</td>\n",
       "      <td>18</td>\n",
       "      <td>22</td>\n",
       "    </tr>\n",
       "    <tr>\n",
       "      <th>...</th>\n",
       "      <td>...</td>\n",
       "      <td>...</td>\n",
       "      <td>...</td>\n",
       "      <td>...</td>\n",
       "      <td>...</td>\n",
       "      <td>...</td>\n",
       "      <td>...</td>\n",
       "      <td>...</td>\n",
       "      <td>...</td>\n",
       "      <td>...</td>\n",
       "      <td>...</td>\n",
       "      <td>...</td>\n",
       "      <td>...</td>\n",
       "      <td>...</td>\n",
       "      <td>...</td>\n",
       "      <td>...</td>\n",
       "      <td>...</td>\n",
       "    </tr>\n",
       "    <tr>\n",
       "      <th>200</th>\n",
       "      <td>1</td>\n",
       "      <td>1</td>\n",
       "      <td>2</td>\n",
       "      <td>1</td>\n",
       "      <td>109</td>\n",
       "      <td>188</td>\n",
       "      <td>68</td>\n",
       "      <td>55</td>\n",
       "      <td>2952</td>\n",
       "      <td>141</td>\n",
       "      <td>3</td>\n",
       "      <td>3</td>\n",
       "      <td>9</td>\n",
       "      <td>114</td>\n",
       "      <td>5400</td>\n",
       "      <td>23</td>\n",
       "      <td>28</td>\n",
       "    </tr>\n",
       "    <tr>\n",
       "      <th>201</th>\n",
       "      <td>1</td>\n",
       "      <td>1</td>\n",
       "      <td>2</td>\n",
       "      <td>1</td>\n",
       "      <td>109</td>\n",
       "      <td>188</td>\n",
       "      <td>68</td>\n",
       "      <td>55</td>\n",
       "      <td>3049</td>\n",
       "      <td>141</td>\n",
       "      <td>3</td>\n",
       "      <td>3</td>\n",
       "      <td>8</td>\n",
       "      <td>160</td>\n",
       "      <td>5300</td>\n",
       "      <td>19</td>\n",
       "      <td>25</td>\n",
       "    </tr>\n",
       "    <tr>\n",
       "      <th>202</th>\n",
       "      <td>1</td>\n",
       "      <td>1</td>\n",
       "      <td>2</td>\n",
       "      <td>1</td>\n",
       "      <td>109</td>\n",
       "      <td>188</td>\n",
       "      <td>68</td>\n",
       "      <td>55</td>\n",
       "      <td>3012</td>\n",
       "      <td>173</td>\n",
       "      <td>3</td>\n",
       "      <td>2</td>\n",
       "      <td>8</td>\n",
       "      <td>134</td>\n",
       "      <td>5500</td>\n",
       "      <td>18</td>\n",
       "      <td>23</td>\n",
       "    </tr>\n",
       "    <tr>\n",
       "      <th>203</th>\n",
       "      <td>0</td>\n",
       "      <td>1</td>\n",
       "      <td>2</td>\n",
       "      <td>1</td>\n",
       "      <td>109</td>\n",
       "      <td>188</td>\n",
       "      <td>68</td>\n",
       "      <td>55</td>\n",
       "      <td>3217</td>\n",
       "      <td>145</td>\n",
       "      <td>3</td>\n",
       "      <td>3</td>\n",
       "      <td>23</td>\n",
       "      <td>106</td>\n",
       "      <td>4800</td>\n",
       "      <td>26</td>\n",
       "      <td>27</td>\n",
       "    </tr>\n",
       "    <tr>\n",
       "      <th>204</th>\n",
       "      <td>1</td>\n",
       "      <td>1</td>\n",
       "      <td>2</td>\n",
       "      <td>1</td>\n",
       "      <td>109</td>\n",
       "      <td>188</td>\n",
       "      <td>68</td>\n",
       "      <td>55</td>\n",
       "      <td>3062</td>\n",
       "      <td>141</td>\n",
       "      <td>3</td>\n",
       "      <td>3</td>\n",
       "      <td>9</td>\n",
       "      <td>114</td>\n",
       "      <td>5400</td>\n",
       "      <td>19</td>\n",
       "      <td>25</td>\n",
       "    </tr>\n",
       "  </tbody>\n",
       "</table>\n",
       "<p>205 rows × 17 columns</p>\n",
       "</div>"
      ],
      "text/plain": [
       "     fueltype  doornumber drivewheel enginelocation  wheelbase  carlength  \\\n",
       "0           1           0          2              1         88        168   \n",
       "1           1           0          2              1         88        168   \n",
       "2           1           0          2              1         94        171   \n",
       "3           1           1          2              1         99        176   \n",
       "4           1           1          2              1         99        176   \n",
       "..        ...         ...        ...            ...        ...        ...   \n",
       "200         1           1          2              1        109        188   \n",
       "201         1           1          2              1        109        188   \n",
       "202         1           1          2              1        109        188   \n",
       "203         0           1          2              1        109        188   \n",
       "204         1           1          2              1        109        188   \n",
       "\n",
       "     carwidth  carheight  curbweight  enginesize  boreratio  stroke  \\\n",
       "0          64         48        2548         130          3       2   \n",
       "1          64         48        2548         130          3       2   \n",
       "2          65         52        2823         152          2       3   \n",
       "3          66         54        2337         109          3       3   \n",
       "4          66         54        2824         136          3       3   \n",
       "..        ...        ...         ...         ...        ...     ...   \n",
       "200        68         55        2952         141          3       3   \n",
       "201        68         55        3049         141          3       3   \n",
       "202        68         55        3012         173          3       2   \n",
       "203        68         55        3217         145          3       3   \n",
       "204        68         55        3062         141          3       3   \n",
       "\n",
       "     compressionratio  horsepower  peakrpm  citympg  highwaympg  \n",
       "0                   9         111     5000       21          27  \n",
       "1                   9         111     5000       21          27  \n",
       "2                   9         154     5000       19          26  \n",
       "3                  10         102     5500       24          30  \n",
       "4                   8         115     5500       18          22  \n",
       "..                ...         ...      ...      ...         ...  \n",
       "200                 9         114     5400       23          28  \n",
       "201                 8         160     5300       19          25  \n",
       "202                 8         134     5500       18          23  \n",
       "203                23         106     4800       26          27  \n",
       "204                 9         114     5400       19          25  \n",
       "\n",
       "[205 rows x 17 columns]"
      ]
     },
     "execution_count": 51,
     "metadata": {},
     "output_type": "execute_result"
    }
   ],
   "source": [
    "x=df.iloc[:,0:-1]\n",
    "x"
   ]
  },
  {
   "cell_type": "code",
   "execution_count": 52,
   "id": "8dbaeed0",
   "metadata": {
    "execution": {
     "iopub.execute_input": "2023-07-22T08:07:40.937312Z",
     "iopub.status.busy": "2023-07-22T08:07:40.936531Z",
     "iopub.status.idle": "2023-07-22T08:07:40.940908Z",
     "shell.execute_reply": "2023-07-22T08:07:40.939935Z"
    },
    "papermill": {
     "duration": 0.034126,
     "end_time": "2023-07-22T08:07:40.943351",
     "exception": false,
     "start_time": "2023-07-22T08:07:40.909225",
     "status": "completed"
    },
    "tags": []
   },
   "outputs": [],
   "source": [
    "# Extracting the target variable (dependent variable) from the DataFrame"
   ]
  },
  {
   "cell_type": "code",
   "execution_count": 53,
   "id": "a5423361",
   "metadata": {
    "execution": {
     "iopub.execute_input": "2023-07-22T08:07:40.996352Z",
     "iopub.status.busy": "2023-07-22T08:07:40.995588Z",
     "iopub.status.idle": "2023-07-22T08:07:41.003560Z",
     "shell.execute_reply": "2023-07-22T08:07:41.002552Z"
    },
    "papermill": {
     "duration": 0.037283,
     "end_time": "2023-07-22T08:07:41.006006",
     "exception": false,
     "start_time": "2023-07-22T08:07:40.968723",
     "status": "completed"
    },
    "tags": []
   },
   "outputs": [
    {
     "data": {
      "text/plain": [
       "0      13495\n",
       "1      16500\n",
       "2      16500\n",
       "3      13950\n",
       "4      17450\n",
       "       ...  \n",
       "200    16845\n",
       "201    19045\n",
       "202    21485\n",
       "203    22470\n",
       "204    22625\n",
       "Name: price, Length: 205, dtype: int64"
      ]
     },
     "execution_count": 53,
     "metadata": {},
     "output_type": "execute_result"
    }
   ],
   "source": [
    "y=df.iloc[:,-1]\n",
    "y"
   ]
  },
  {
   "cell_type": "code",
   "execution_count": 54,
   "id": "4e0e75c1",
   "metadata": {
    "execution": {
     "iopub.execute_input": "2023-07-22T08:07:41.058937Z",
     "iopub.status.busy": "2023-07-22T08:07:41.058523Z",
     "iopub.status.idle": "2023-07-22T08:07:41.063333Z",
     "shell.execute_reply": "2023-07-22T08:07:41.062128Z"
    },
    "papermill": {
     "duration": 0.033953,
     "end_time": "2023-07-22T08:07:41.065798",
     "exception": false,
     "start_time": "2023-07-22T08:07:41.031845",
     "status": "completed"
    },
    "tags": []
   },
   "outputs": [],
   "source": [
    "# Train Test Split\n",
    "# Splitting the data into training and testing sets"
   ]
  },
  {
   "cell_type": "code",
   "execution_count": 55,
   "id": "3ae3e64b",
   "metadata": {
    "execution": {
     "iopub.execute_input": "2023-07-22T08:07:41.118440Z",
     "iopub.status.busy": "2023-07-22T08:07:41.118017Z",
     "iopub.status.idle": "2023-07-22T08:07:41.394712Z",
     "shell.execute_reply": "2023-07-22T08:07:41.393605Z"
    },
    "papermill": {
     "duration": 0.306403,
     "end_time": "2023-07-22T08:07:41.397521",
     "exception": false,
     "start_time": "2023-07-22T08:07:41.091118",
     "status": "completed"
    },
    "tags": []
   },
   "outputs": [],
   "source": [
    "from sklearn.model_selection import train_test_split"
   ]
  },
  {
   "cell_type": "code",
   "execution_count": 56,
   "id": "259307b7",
   "metadata": {
    "execution": {
     "iopub.execute_input": "2023-07-22T08:07:41.454146Z",
     "iopub.status.busy": "2023-07-22T08:07:41.453059Z",
     "iopub.status.idle": "2023-07-22T08:07:41.479299Z",
     "shell.execute_reply": "2023-07-22T08:07:41.478089Z"
    },
    "papermill": {
     "duration": 0.058429,
     "end_time": "2023-07-22T08:07:41.481953",
     "exception": false,
     "start_time": "2023-07-22T08:07:41.423524",
     "status": "completed"
    },
    "tags": []
   },
   "outputs": [
    {
     "data": {
      "text/html": [
       "<div>\n",
       "<style scoped>\n",
       "    .dataframe tbody tr th:only-of-type {\n",
       "        vertical-align: middle;\n",
       "    }\n",
       "\n",
       "    .dataframe tbody tr th {\n",
       "        vertical-align: top;\n",
       "    }\n",
       "\n",
       "    .dataframe thead th {\n",
       "        text-align: right;\n",
       "    }\n",
       "</style>\n",
       "<table border=\"1\" class=\"dataframe\">\n",
       "  <thead>\n",
       "    <tr style=\"text-align: right;\">\n",
       "      <th></th>\n",
       "      <th>fueltype</th>\n",
       "      <th>doornumber</th>\n",
       "      <th>drivewheel</th>\n",
       "      <th>enginelocation</th>\n",
       "      <th>wheelbase</th>\n",
       "      <th>carlength</th>\n",
       "      <th>carwidth</th>\n",
       "      <th>carheight</th>\n",
       "      <th>curbweight</th>\n",
       "      <th>enginesize</th>\n",
       "      <th>boreratio</th>\n",
       "      <th>stroke</th>\n",
       "      <th>compressionratio</th>\n",
       "      <th>horsepower</th>\n",
       "      <th>peakrpm</th>\n",
       "      <th>citympg</th>\n",
       "      <th>highwaympg</th>\n",
       "    </tr>\n",
       "  </thead>\n",
       "  <tbody>\n",
       "    <tr>\n",
       "      <th>15</th>\n",
       "      <td>1</td>\n",
       "      <td>1</td>\n",
       "      <td>2</td>\n",
       "      <td>1</td>\n",
       "      <td>103</td>\n",
       "      <td>189</td>\n",
       "      <td>66</td>\n",
       "      <td>55</td>\n",
       "      <td>3230</td>\n",
       "      <td>209</td>\n",
       "      <td>3</td>\n",
       "      <td>3</td>\n",
       "      <td>8</td>\n",
       "      <td>182</td>\n",
       "      <td>5400</td>\n",
       "      <td>16</td>\n",
       "      <td>22</td>\n",
       "    </tr>\n",
       "    <tr>\n",
       "      <th>9</th>\n",
       "      <td>1</td>\n",
       "      <td>0</td>\n",
       "      <td>2</td>\n",
       "      <td>1</td>\n",
       "      <td>99</td>\n",
       "      <td>178</td>\n",
       "      <td>67</td>\n",
       "      <td>52</td>\n",
       "      <td>3053</td>\n",
       "      <td>131</td>\n",
       "      <td>3</td>\n",
       "      <td>3</td>\n",
       "      <td>7</td>\n",
       "      <td>160</td>\n",
       "      <td>5500</td>\n",
       "      <td>16</td>\n",
       "      <td>22</td>\n",
       "    </tr>\n",
       "    <tr>\n",
       "      <th>100</th>\n",
       "      <td>1</td>\n",
       "      <td>1</td>\n",
       "      <td>2</td>\n",
       "      <td>1</td>\n",
       "      <td>97</td>\n",
       "      <td>173</td>\n",
       "      <td>65</td>\n",
       "      <td>54</td>\n",
       "      <td>2302</td>\n",
       "      <td>120</td>\n",
       "      <td>3</td>\n",
       "      <td>3</td>\n",
       "      <td>8</td>\n",
       "      <td>97</td>\n",
       "      <td>5200</td>\n",
       "      <td>27</td>\n",
       "      <td>34</td>\n",
       "    </tr>\n",
       "    <tr>\n",
       "      <th>132</th>\n",
       "      <td>1</td>\n",
       "      <td>0</td>\n",
       "      <td>2</td>\n",
       "      <td>1</td>\n",
       "      <td>99</td>\n",
       "      <td>186</td>\n",
       "      <td>66</td>\n",
       "      <td>56</td>\n",
       "      <td>2658</td>\n",
       "      <td>121</td>\n",
       "      <td>3</td>\n",
       "      <td>3</td>\n",
       "      <td>9</td>\n",
       "      <td>110</td>\n",
       "      <td>5250</td>\n",
       "      <td>21</td>\n",
       "      <td>28</td>\n",
       "    </tr>\n",
       "    <tr>\n",
       "      <th>68</th>\n",
       "      <td>0</td>\n",
       "      <td>1</td>\n",
       "      <td>2</td>\n",
       "      <td>1</td>\n",
       "      <td>110</td>\n",
       "      <td>190</td>\n",
       "      <td>70</td>\n",
       "      <td>58</td>\n",
       "      <td>3750</td>\n",
       "      <td>183</td>\n",
       "      <td>3</td>\n",
       "      <td>3</td>\n",
       "      <td>21</td>\n",
       "      <td>123</td>\n",
       "      <td>4350</td>\n",
       "      <td>22</td>\n",
       "      <td>25</td>\n",
       "    </tr>\n",
       "    <tr>\n",
       "      <th>...</th>\n",
       "      <td>...</td>\n",
       "      <td>...</td>\n",
       "      <td>...</td>\n",
       "      <td>...</td>\n",
       "      <td>...</td>\n",
       "      <td>...</td>\n",
       "      <td>...</td>\n",
       "      <td>...</td>\n",
       "      <td>...</td>\n",
       "      <td>...</td>\n",
       "      <td>...</td>\n",
       "      <td>...</td>\n",
       "      <td>...</td>\n",
       "      <td>...</td>\n",
       "      <td>...</td>\n",
       "      <td>...</td>\n",
       "      <td>...</td>\n",
       "    </tr>\n",
       "    <tr>\n",
       "      <th>56</th>\n",
       "      <td>1</td>\n",
       "      <td>0</td>\n",
       "      <td>2</td>\n",
       "      <td>1</td>\n",
       "      <td>95</td>\n",
       "      <td>169</td>\n",
       "      <td>65</td>\n",
       "      <td>49</td>\n",
       "      <td>2380</td>\n",
       "      <td>70</td>\n",
       "      <td>3</td>\n",
       "      <td>3</td>\n",
       "      <td>9</td>\n",
       "      <td>101</td>\n",
       "      <td>6000</td>\n",
       "      <td>17</td>\n",
       "      <td>23</td>\n",
       "    </tr>\n",
       "    <tr>\n",
       "      <th>128</th>\n",
       "      <td>1</td>\n",
       "      <td>0</td>\n",
       "      <td>2</td>\n",
       "      <td>0</td>\n",
       "      <td>89</td>\n",
       "      <td>168</td>\n",
       "      <td>65</td>\n",
       "      <td>51</td>\n",
       "      <td>2800</td>\n",
       "      <td>194</td>\n",
       "      <td>3</td>\n",
       "      <td>2</td>\n",
       "      <td>9</td>\n",
       "      <td>207</td>\n",
       "      <td>5900</td>\n",
       "      <td>17</td>\n",
       "      <td>25</td>\n",
       "    </tr>\n",
       "    <tr>\n",
       "      <th>76</th>\n",
       "      <td>1</td>\n",
       "      <td>0</td>\n",
       "      <td>2</td>\n",
       "      <td>1</td>\n",
       "      <td>93</td>\n",
       "      <td>157</td>\n",
       "      <td>64</td>\n",
       "      <td>50</td>\n",
       "      <td>1918</td>\n",
       "      <td>92</td>\n",
       "      <td>2</td>\n",
       "      <td>3</td>\n",
       "      <td>9</td>\n",
       "      <td>68</td>\n",
       "      <td>5500</td>\n",
       "      <td>37</td>\n",
       "      <td>41</td>\n",
       "    </tr>\n",
       "    <tr>\n",
       "      <th>144</th>\n",
       "      <td>1</td>\n",
       "      <td>1</td>\n",
       "      <td>2</td>\n",
       "      <td>1</td>\n",
       "      <td>97</td>\n",
       "      <td>172</td>\n",
       "      <td>65</td>\n",
       "      <td>54</td>\n",
       "      <td>2385</td>\n",
       "      <td>108</td>\n",
       "      <td>3</td>\n",
       "      <td>2</td>\n",
       "      <td>9</td>\n",
       "      <td>82</td>\n",
       "      <td>4800</td>\n",
       "      <td>24</td>\n",
       "      <td>25</td>\n",
       "    </tr>\n",
       "    <tr>\n",
       "      <th>104</th>\n",
       "      <td>1</td>\n",
       "      <td>0</td>\n",
       "      <td>2</td>\n",
       "      <td>1</td>\n",
       "      <td>91</td>\n",
       "      <td>170</td>\n",
       "      <td>67</td>\n",
       "      <td>49</td>\n",
       "      <td>3071</td>\n",
       "      <td>181</td>\n",
       "      <td>3</td>\n",
       "      <td>3</td>\n",
       "      <td>9</td>\n",
       "      <td>160</td>\n",
       "      <td>5200</td>\n",
       "      <td>19</td>\n",
       "      <td>25</td>\n",
       "    </tr>\n",
       "  </tbody>\n",
       "</table>\n",
       "<p>62 rows × 17 columns</p>\n",
       "</div>"
      ],
      "text/plain": [
       "     fueltype  doornumber drivewheel enginelocation  wheelbase  carlength  \\\n",
       "15          1           1          2              1        103        189   \n",
       "9           1           0          2              1         99        178   \n",
       "100         1           1          2              1         97        173   \n",
       "132         1           0          2              1         99        186   \n",
       "68          0           1          2              1        110        190   \n",
       "..        ...         ...        ...            ...        ...        ...   \n",
       "56          1           0          2              1         95        169   \n",
       "128         1           0          2              0         89        168   \n",
       "76          1           0          2              1         93        157   \n",
       "144         1           1          2              1         97        172   \n",
       "104         1           0          2              1         91        170   \n",
       "\n",
       "     carwidth  carheight  curbweight  enginesize  boreratio  stroke  \\\n",
       "15         66         55        3230         209          3       3   \n",
       "9          67         52        3053         131          3       3   \n",
       "100        65         54        2302         120          3       3   \n",
       "132        66         56        2658         121          3       3   \n",
       "68         70         58        3750         183          3       3   \n",
       "..        ...        ...         ...         ...        ...     ...   \n",
       "56         65         49        2380          70          3       3   \n",
       "128        65         51        2800         194          3       2   \n",
       "76         64         50        1918          92          2       3   \n",
       "144        65         54        2385         108          3       2   \n",
       "104        67         49        3071         181          3       3   \n",
       "\n",
       "     compressionratio  horsepower  peakrpm  citympg  highwaympg  \n",
       "15                  8         182     5400       16          22  \n",
       "9                   7         160     5500       16          22  \n",
       "100                 8          97     5200       27          34  \n",
       "132                 9         110     5250       21          28  \n",
       "68                 21         123     4350       22          25  \n",
       "..                ...         ...      ...      ...         ...  \n",
       "56                  9         101     6000       17          23  \n",
       "128                 9         207     5900       17          25  \n",
       "76                  9          68     5500       37          41  \n",
       "144                 9          82     4800       24          25  \n",
       "104                 9         160     5200       19          25  \n",
       "\n",
       "[62 rows x 17 columns]"
      ]
     },
     "execution_count": 56,
     "metadata": {},
     "output_type": "execute_result"
    }
   ],
   "source": [
    "x_train,x_test,y_train,y_test=train_test_split(x,y,test_size=0.3,random_state=42)\n",
    "x_test"
   ]
  },
  {
   "cell_type": "code",
   "execution_count": 57,
   "id": "892ada31",
   "metadata": {
    "execution": {
     "iopub.execute_input": "2023-07-22T08:07:41.535862Z",
     "iopub.status.busy": "2023-07-22T08:07:41.535444Z",
     "iopub.status.idle": "2023-07-22T08:07:41.540364Z",
     "shell.execute_reply": "2023-07-22T08:07:41.539153Z"
    },
    "papermill": {
     "duration": 0.034856,
     "end_time": "2023-07-22T08:07:41.542744",
     "exception": false,
     "start_time": "2023-07-22T08:07:41.507888",
     "status": "completed"
    },
    "tags": []
   },
   "outputs": [],
   "source": [
    "# Scaling \n",
    "# Standardizing the features using StandardScaler"
   ]
  },
  {
   "cell_type": "code",
   "execution_count": 58,
   "id": "5a856ee4",
   "metadata": {
    "execution": {
     "iopub.execute_input": "2023-07-22T08:07:41.596215Z",
     "iopub.status.busy": "2023-07-22T08:07:41.595793Z",
     "iopub.status.idle": "2023-07-22T08:07:41.600463Z",
     "shell.execute_reply": "2023-07-22T08:07:41.599592Z"
    },
    "papermill": {
     "duration": 0.033965,
     "end_time": "2023-07-22T08:07:41.602664",
     "exception": false,
     "start_time": "2023-07-22T08:07:41.568699",
     "status": "completed"
    },
    "tags": []
   },
   "outputs": [],
   "source": [
    "from sklearn.preprocessing import StandardScaler"
   ]
  },
  {
   "cell_type": "code",
   "execution_count": 59,
   "id": "f92b2331",
   "metadata": {
    "execution": {
     "iopub.execute_input": "2023-07-22T08:07:41.657507Z",
     "iopub.status.busy": "2023-07-22T08:07:41.656562Z",
     "iopub.status.idle": "2023-07-22T08:07:41.662470Z",
     "shell.execute_reply": "2023-07-22T08:07:41.661127Z"
    },
    "papermill": {
     "duration": 0.03587,
     "end_time": "2023-07-22T08:07:41.665015",
     "exception": false,
     "start_time": "2023-07-22T08:07:41.629145",
     "status": "completed"
    },
    "tags": []
   },
   "outputs": [],
   "source": [
    "scaler=StandardScaler()"
   ]
  },
  {
   "cell_type": "code",
   "execution_count": 60,
   "id": "5750a81e",
   "metadata": {
    "execution": {
     "iopub.execute_input": "2023-07-22T08:07:41.719545Z",
     "iopub.status.busy": "2023-07-22T08:07:41.719124Z",
     "iopub.status.idle": "2023-07-22T08:07:41.730514Z",
     "shell.execute_reply": "2023-07-22T08:07:41.729350Z"
    },
    "papermill": {
     "duration": 0.041407,
     "end_time": "2023-07-22T08:07:41.732996",
     "exception": false,
     "start_time": "2023-07-22T08:07:41.691589",
     "status": "completed"
    },
    "tags": []
   },
   "outputs": [],
   "source": [
    "x_train_scaled=scaler.fit_transform(x_train)"
   ]
  },
  {
   "cell_type": "code",
   "execution_count": 61,
   "id": "a05f49c6",
   "metadata": {
    "execution": {
     "iopub.execute_input": "2023-07-22T08:07:41.787507Z",
     "iopub.status.busy": "2023-07-22T08:07:41.787069Z",
     "iopub.status.idle": "2023-07-22T08:07:41.797535Z",
     "shell.execute_reply": "2023-07-22T08:07:41.796116Z"
    },
    "papermill": {
     "duration": 0.040867,
     "end_time": "2023-07-22T08:07:41.800176",
     "exception": false,
     "start_time": "2023-07-22T08:07:41.759309",
     "status": "completed"
    },
    "tags": []
   },
   "outputs": [],
   "source": [
    "x_test_scaled=scaler.fit_transform(x_test)"
   ]
  },
  {
   "cell_type": "code",
   "execution_count": 62,
   "id": "6bf26316",
   "metadata": {
    "execution": {
     "iopub.execute_input": "2023-07-22T08:07:41.857015Z",
     "iopub.status.busy": "2023-07-22T08:07:41.856610Z",
     "iopub.status.idle": "2023-07-22T08:07:41.865745Z",
     "shell.execute_reply": "2023-07-22T08:07:41.864386Z"
    },
    "papermill": {
     "duration": 0.040618,
     "end_time": "2023-07-22T08:07:41.868267",
     "exception": false,
     "start_time": "2023-07-22T08:07:41.827649",
     "status": "completed"
    },
    "tags": []
   },
   "outputs": [
    {
     "data": {
      "text/plain": [
       "array([[ 0.38490018,  0.87831007,  0.        , ...,  0.76952735,\n",
       "        -1.31581608, -1.20210967],\n",
       "       [ 0.38490018, -1.13855009,  0.        , ...,  0.99404827,\n",
       "        -1.31581608, -1.20210967],\n",
       "       [ 0.38490018,  0.87831007,  0.        , ...,  0.32048551,\n",
       "         0.11087163,  0.27863469],\n",
       "       ...,\n",
       "       [ 0.38490018, -1.13855009,  0.        , ...,  0.99404827,\n",
       "         1.40786045,  1.14240223],\n",
       "       [ 0.38490018,  0.87831007,  0.        , ..., -0.57759818,\n",
       "        -0.27822502, -0.83192358],\n",
       "       [ 0.38490018, -1.13855009,  0.        , ...,  0.32048551,\n",
       "        -0.92671943, -0.83192358]])"
      ]
     },
     "execution_count": 62,
     "metadata": {},
     "output_type": "execute_result"
    }
   ],
   "source": [
    "x_test_scaled"
   ]
  },
  {
   "cell_type": "code",
   "execution_count": 63,
   "id": "18d99c79",
   "metadata": {
    "execution": {
     "iopub.execute_input": "2023-07-22T08:07:41.924646Z",
     "iopub.status.busy": "2023-07-22T08:07:41.924200Z",
     "iopub.status.idle": "2023-07-22T08:07:41.929163Z",
     "shell.execute_reply": "2023-07-22T08:07:41.927968Z"
    },
    "papermill": {
     "duration": 0.035085,
     "end_time": "2023-07-22T08:07:41.931505",
     "exception": false,
     "start_time": "2023-07-22T08:07:41.896420",
     "status": "completed"
    },
    "tags": []
   },
   "outputs": [],
   "source": [
    "# Linear Regression Because the Data has Linear Behaviour \n",
    "# Creating a Linear Regression model, fitting it on the training data, and making predictions"
   ]
  },
  {
   "cell_type": "code",
   "execution_count": 64,
   "id": "9bde4573",
   "metadata": {
    "execution": {
     "iopub.execute_input": "2023-07-22T08:07:41.985940Z",
     "iopub.status.busy": "2023-07-22T08:07:41.985535Z",
     "iopub.status.idle": "2023-07-22T08:07:42.129562Z",
     "shell.execute_reply": "2023-07-22T08:07:42.128342Z"
    },
    "papermill": {
     "duration": 0.174084,
     "end_time": "2023-07-22T08:07:42.132120",
     "exception": false,
     "start_time": "2023-07-22T08:07:41.958036",
     "status": "completed"
    },
    "tags": []
   },
   "outputs": [
    {
     "data": {
      "text/html": [
       "<style>#sk-container-id-1 {color: black;background-color: white;}#sk-container-id-1 pre{padding: 0;}#sk-container-id-1 div.sk-toggleable {background-color: white;}#sk-container-id-1 label.sk-toggleable__label {cursor: pointer;display: block;width: 100%;margin-bottom: 0;padding: 0.3em;box-sizing: border-box;text-align: center;}#sk-container-id-1 label.sk-toggleable__label-arrow:before {content: \"▸\";float: left;margin-right: 0.25em;color: #696969;}#sk-container-id-1 label.sk-toggleable__label-arrow:hover:before {color: black;}#sk-container-id-1 div.sk-estimator:hover label.sk-toggleable__label-arrow:before {color: black;}#sk-container-id-1 div.sk-toggleable__content {max-height: 0;max-width: 0;overflow: hidden;text-align: left;background-color: #f0f8ff;}#sk-container-id-1 div.sk-toggleable__content pre {margin: 0.2em;color: black;border-radius: 0.25em;background-color: #f0f8ff;}#sk-container-id-1 input.sk-toggleable__control:checked~div.sk-toggleable__content {max-height: 200px;max-width: 100%;overflow: auto;}#sk-container-id-1 input.sk-toggleable__control:checked~label.sk-toggleable__label-arrow:before {content: \"▾\";}#sk-container-id-1 div.sk-estimator input.sk-toggleable__control:checked~label.sk-toggleable__label {background-color: #d4ebff;}#sk-container-id-1 div.sk-label input.sk-toggleable__control:checked~label.sk-toggleable__label {background-color: #d4ebff;}#sk-container-id-1 input.sk-hidden--visually {border: 0;clip: rect(1px 1px 1px 1px);clip: rect(1px, 1px, 1px, 1px);height: 1px;margin: -1px;overflow: hidden;padding: 0;position: absolute;width: 1px;}#sk-container-id-1 div.sk-estimator {font-family: monospace;background-color: #f0f8ff;border: 1px dotted black;border-radius: 0.25em;box-sizing: border-box;margin-bottom: 0.5em;}#sk-container-id-1 div.sk-estimator:hover {background-color: #d4ebff;}#sk-container-id-1 div.sk-parallel-item::after {content: \"\";width: 100%;border-bottom: 1px solid gray;flex-grow: 1;}#sk-container-id-1 div.sk-label:hover label.sk-toggleable__label {background-color: #d4ebff;}#sk-container-id-1 div.sk-serial::before {content: \"\";position: absolute;border-left: 1px solid gray;box-sizing: border-box;top: 0;bottom: 0;left: 50%;z-index: 0;}#sk-container-id-1 div.sk-serial {display: flex;flex-direction: column;align-items: center;background-color: white;padding-right: 0.2em;padding-left: 0.2em;position: relative;}#sk-container-id-1 div.sk-item {position: relative;z-index: 1;}#sk-container-id-1 div.sk-parallel {display: flex;align-items: stretch;justify-content: center;background-color: white;position: relative;}#sk-container-id-1 div.sk-item::before, #sk-container-id-1 div.sk-parallel-item::before {content: \"\";position: absolute;border-left: 1px solid gray;box-sizing: border-box;top: 0;bottom: 0;left: 50%;z-index: -1;}#sk-container-id-1 div.sk-parallel-item {display: flex;flex-direction: column;z-index: 1;position: relative;background-color: white;}#sk-container-id-1 div.sk-parallel-item:first-child::after {align-self: flex-end;width: 50%;}#sk-container-id-1 div.sk-parallel-item:last-child::after {align-self: flex-start;width: 50%;}#sk-container-id-1 div.sk-parallel-item:only-child::after {width: 0;}#sk-container-id-1 div.sk-dashed-wrapped {border: 1px dashed gray;margin: 0 0.4em 0.5em 0.4em;box-sizing: border-box;padding-bottom: 0.4em;background-color: white;}#sk-container-id-1 div.sk-label label {font-family: monospace;font-weight: bold;display: inline-block;line-height: 1.2em;}#sk-container-id-1 div.sk-label-container {text-align: center;}#sk-container-id-1 div.sk-container {/* jupyter's `normalize.less` sets `[hidden] { display: none; }` but bootstrap.min.css set `[hidden] { display: none !important; }` so we also need the `!important` here to be able to override the default hidden behavior on the sphinx rendered scikit-learn.org. See: https://github.com/scikit-learn/scikit-learn/issues/21755 */display: inline-block !important;position: relative;}#sk-container-id-1 div.sk-text-repr-fallback {display: none;}</style><div id=\"sk-container-id-1\" class=\"sk-top-container\"><div class=\"sk-text-repr-fallback\"><pre>LinearRegression()</pre><b>In a Jupyter environment, please rerun this cell to show the HTML representation or trust the notebook. <br />On GitHub, the HTML representation is unable to render, please try loading this page with nbviewer.org.</b></div><div class=\"sk-container\" hidden><div class=\"sk-item\"><div class=\"sk-estimator sk-toggleable\"><input class=\"sk-toggleable__control sk-hidden--visually\" id=\"sk-estimator-id-1\" type=\"checkbox\" checked><label for=\"sk-estimator-id-1\" class=\"sk-toggleable__label sk-toggleable__label-arrow\">LinearRegression</label><div class=\"sk-toggleable__content\"><pre>LinearRegression()</pre></div></div></div></div></div>"
      ],
      "text/plain": [
       "LinearRegression()"
      ]
     },
     "execution_count": 64,
     "metadata": {},
     "output_type": "execute_result"
    }
   ],
   "source": [
    "from sklearn.linear_model import LinearRegression\n",
    "lr=LinearRegression()\n",
    "lr.fit(x_train_scaled,y_train)"
   ]
  },
  {
   "cell_type": "code",
   "execution_count": 65,
   "id": "beaa6a58",
   "metadata": {
    "execution": {
     "iopub.execute_input": "2023-07-22T08:07:42.188197Z",
     "iopub.status.busy": "2023-07-22T08:07:42.187561Z",
     "iopub.status.idle": "2023-07-22T08:07:42.192712Z",
     "shell.execute_reply": "2023-07-22T08:07:42.191618Z"
    },
    "papermill": {
     "duration": 0.036163,
     "end_time": "2023-07-22T08:07:42.195176",
     "exception": false,
     "start_time": "2023-07-22T08:07:42.159013",
     "status": "completed"
    },
    "tags": []
   },
   "outputs": [],
   "source": [
    "# Calculating the R-squared score to evaluate the model's performance"
   ]
  },
  {
   "cell_type": "code",
   "execution_count": 66,
   "id": "ad1059b4",
   "metadata": {
    "execution": {
     "iopub.execute_input": "2023-07-22T08:07:42.250983Z",
     "iopub.status.busy": "2023-07-22T08:07:42.250315Z",
     "iopub.status.idle": "2023-07-22T08:07:42.258634Z",
     "shell.execute_reply": "2023-07-22T08:07:42.257784Z"
    },
    "papermill": {
     "duration": 0.038205,
     "end_time": "2023-07-22T08:07:42.260687",
     "exception": false,
     "start_time": "2023-07-22T08:07:42.222482",
     "status": "completed"
    },
    "tags": []
   },
   "outputs": [
    {
     "data": {
      "text/plain": [
       "0.8136352911249098"
      ]
     },
     "execution_count": 66,
     "metadata": {},
     "output_type": "execute_result"
    }
   ],
   "source": [
    "y_pred=lr.predict(x_test_scaled)\n",
    "from sklearn.metrics import r2_score\n",
    "r2_score(y_test,y_pred)"
   ]
  },
  {
   "cell_type": "code",
   "execution_count": 67,
   "id": "b2ac7059",
   "metadata": {
    "execution": {
     "iopub.execute_input": "2023-07-22T08:07:42.316145Z",
     "iopub.status.busy": "2023-07-22T08:07:42.315449Z",
     "iopub.status.idle": "2023-07-22T08:07:42.320924Z",
     "shell.execute_reply": "2023-07-22T08:07:42.319851Z"
    },
    "papermill": {
     "duration": 0.036219,
     "end_time": "2023-07-22T08:07:42.323534",
     "exception": false,
     "start_time": "2023-07-22T08:07:42.287315",
     "status": "completed"
    },
    "tags": []
   },
   "outputs": [],
   "source": [
    "# The Code performs Data Preprocessing and Feature Engineering, preparing the data for training a Linear Regression Model to predict car prices. \n",
    "# The steps include dropping irrelevant columns, converting categorical variables to numeric, splitting the data into training and testing sets, and standardizing the features before fitting the linear regression model. \n",
    "# The final R-squared score is used as an evaluation metric for the model's performance."
   ]
  },
  {
   "cell_type": "code",
   "execution_count": 68,
   "id": "5adc3154",
   "metadata": {
    "execution": {
     "iopub.execute_input": "2023-07-22T08:07:42.378589Z",
     "iopub.status.busy": "2023-07-22T08:07:42.378154Z",
     "iopub.status.idle": "2023-07-22T08:07:42.382644Z",
     "shell.execute_reply": "2023-07-22T08:07:42.381471Z"
    },
    "papermill": {
     "duration": 0.034904,
     "end_time": "2023-07-22T08:07:42.385004",
     "exception": false,
     "start_time": "2023-07-22T08:07:42.350100",
     "status": "completed"
    },
    "tags": []
   },
   "outputs": [],
   "source": [
    "# Thankyou"
   ]
  }
 ],
 "metadata": {
  "kernelspec": {
   "display_name": "Python 3",
   "language": "python",
   "name": "python3"
  },
  "language_info": {
   "codemirror_mode": {
    "name": "ipython",
    "version": 3
   },
   "file_extension": ".py",
   "mimetype": "text/x-python",
   "name": "python",
   "nbconvert_exporter": "python",
   "pygments_lexer": "ipython3",
   "version": "3.10.12"
  },
  "papermill": {
   "default_parameters": {},
   "duration": 19.237265,
   "end_time": "2023-07-22T08:07:43.434904",
   "environment_variables": {},
   "exception": null,
   "input_path": "__notebook__.ipynb",
   "output_path": "__notebook__.ipynb",
   "parameters": {},
   "start_time": "2023-07-22T08:07:24.197639",
   "version": "2.4.0"
  }
 },
 "nbformat": 4,
 "nbformat_minor": 5
}
